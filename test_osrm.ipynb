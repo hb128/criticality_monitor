{
 "cells": [
  {
   "cell_type": "code",
   "execution_count": null,
   "id": "85ee77e1-b9c1-4877-939f-98aa62890e9a",
   "metadata": {},
   "outputs": [],
   "source": [
    "import requests\n",
    "baseurl = 'http://router.project-osrm.org/nearest/v1/driving/13.388860,52.517037?number=3&bearings=0,20'\n",
    "r =requests.post(baseurl)"
   ]
  },
  {
   "cell_type": "code",
   "execution_count": null,
   "id": "019d58f5-834a-44b0-9556-a404c7b6b790",
   "metadata": {},
   "outputs": [],
   "source": [
    "print(r.text)\n",
    "jp = json.loads(r.text)"
   ]
  },
  {
   "cell_type": "code",
   "execution_count": null,
   "id": "8ded0606-0e1b-4d8f-877f-2a83399fd66f",
   "metadata": {},
   "outputs": [],
   "source": [
    "point = p1[3,:]\n",
    "baseurl = 'http://router.project-osrm.org/nearest/v1/driving/' + '%.6f' % point[1] + ',' + '%.6f' % point[0] + '?number=1' #&bearings=0,20\n",
    "r =requests.post(baseurl)"
   ]
  },
  {
   "cell_type": "code",
   "execution_count": null,
   "id": "74c0ba6d-f7e3-47e1-a79d-0f9f638683c5",
   "metadata": {},
   "outputs": [],
   "source": [
    "jp = json.loads(r.text)\n",
    "print(point)\n",
    "jp"
   ]
  },
  {
   "cell_type": "code",
   "execution_count": null,
   "id": "b867bdd9-ca46-475c-93c8-2363ab81dcb8",
   "metadata": {},
   "outputs": [],
   "source": [
    "plt.plot(point[1],point[0],'ok',ms=10)\n",
    "l1 = jp['waypoints'][0]['location'];\n",
    "plt.plot(l1[0],l1[1],'ob',ms=10)\n",
    "#plt.legend(['Points','Fit','Orig'])\n",
    "mplleaflet.display()"
   ]
  },
  {
   "cell_type": "code",
   "execution_count": null,
   "id": "0bfcc278-14a6-440a-9112-d16a4c216c62",
   "metadata": {},
   "outputs": [],
   "source": [
    "point = p1[1,:]\n",
    "baseurl = 'http://router.project-osrm.org/nearest/v1/driving/' + '%.6f' % point[1] + ',' + '%.6f' % point[0] + '?number=1' #&bearings=0,20\n",
    "r =requests.post(baseurl)\n",
    "jp = json.loads(r.text)\n",
    "l1 = jp['waypoints'][0]['location'];\n",
    "\n",
    "plt.plot(point[1],point[0],'ok',ms=10)\n",
    "l1 = jp['waypoints'][0]['location'];\n",
    "plt.plot(l1[0],l1[1],'ob',ms=10)\n",
    "#plt.legend(['Points','Fit','Orig'])\n",
    "mplleaflet.display()"
   ]
  }
 ],
 "metadata": {
  "kernelspec": {
   "display_name": "Python 3 (ipykernel)",
   "language": "python",
   "name": "python3"
  },
  "language_info": {
   "codemirror_mode": {
    "name": "ipython",
    "version": 3
   },
   "file_extension": ".py",
   "mimetype": "text/x-python",
   "name": "python",
   "nbconvert_exporter": "python",
   "pygments_lexer": "ipython3",
   "version": "3.9.7"
  }
 },
 "nbformat": 4,
 "nbformat_minor": 5
}
