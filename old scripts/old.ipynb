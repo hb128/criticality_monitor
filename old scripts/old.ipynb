{
 "cells": [
  {
   "cell_type": "code",
   "execution_count": null,
   "id": "5ef7f5c4-927d-405e-8e26-3765a11e9be9",
   "metadata": {},
   "outputs": [],
   "source": [
    "\n",
    "#mapHH = smopy.Map(latitude, 9.9817, z=10)\n",
    "#mapHH_z14 = smopy.Map(latitude, 9.9817, z=14)\n",
    "#positions_px_x,positions_px_y = mapHH.to_pixels(positions[:,0],positions[:,1])\n",
    "#px_scale = distance_per_pixel(latitude, mapHH.z)\n",
    "#ax = mapHH.show_mpl(figsize=(12, 9))"
   ]
  }
 ],
 "metadata": {
  "kernelspec": {
   "display_name": "Python 3 (ipykernel)",
   "language": "python",
   "name": "python3"
  },
  "language_info": {
   "codemirror_mode": {
    "name": "ipython",
    "version": 3
   },
   "file_extension": ".py",
   "mimetype": "text/x-python",
   "name": "python",
   "nbconvert_exporter": "python",
   "pygments_lexer": "ipython3",
   "version": "3.9.7"
  }
 },
 "nbformat": 4,
 "nbformat_minor": 5
}
