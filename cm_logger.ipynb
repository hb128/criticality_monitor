{
 "cells": [
  {
   "cell_type": "code",
   "execution_count": null,
   "id": "b8d782f6",
   "metadata": {},
   "outputs": [],
   "source": [
    "import requests\n",
    "import json\n",
    "import jsondiff\n",
    "import numpy as np\n",
    "import matplotlib.pyplot as plt\n",
    "import smopy\n",
    "from numpy.random import default_rng\n",
    "import scipy.spatial.distance\n",
    "import scipy.stats\n",
    "import datetime\n",
    "from IPython import display\n",
    "import os\n",
    "from time import sleep"
   ]
  },
  {
   "cell_type": "code",
   "execution_count": null,
   "id": "64946dbf",
   "metadata": {},
   "outputs": [],
   "source": [
    "def load_locations():\n",
    "    \n",
    "    baseurl = 'https://api.criticalmaps.net/'\n",
    "    r =requests.post(baseurl)\n",
    "    #print(r.status_code,r.headers)\n",
    "    jp = json.loads(r.text)\n",
    "    #print(r.text)\n",
    "    return jp\n",
    "def get_current_positions(r0):\n",
    "    locations = r0['locations']\n",
    "    positions = np.empty((0,2));\n",
    "    for ident in locations:\n",
    "        loc = locations[ident]\n",
    "        positions=np.append(positions,[[loc['latitude']*1e-6,loc['longitude']*1e-6]],axis=0)\n",
    "    return positions\n",
    "\n",
    "def log_locations(path):\n",
    "    timestamp = datetime.datetime.now().strftime('%Y%m%d_%H%M%S')\n",
    "    locations = load_locations()\n",
    "    with open(os.path.join(path,timestamp + '.txt'),'w') as file:\n",
    "        file.write(json.dumps(locations))   \n",
    "    return get_current_positions(locations)"
   ]
  },
  {
   "cell_type": "code",
   "execution_count": null,
   "id": "d8b14a3e",
   "metadata": {},
   "outputs": [],
   "source": [
    "try:\n",
    "    mapHH = smopy.Map((53.5, 9.85, 53.62, 10.1), z=12)\n",
    "    while True:\n",
    "        positions = log_locations(r\"C:\\Users\\Hauke\\cm_logs\")\n",
    "        positions_px_x,positions_px_y = mapHH.to_pixels(positions[:,0],positions[:,1])\n",
    "        ax = mapHH.show_mpl(figsize=(12, 9))\n",
    "        ax.plot(positions_px_x,positions_px_y, 'or', ms=10, mew=2);\n",
    "        display.clear_output(wait=True)\n",
    "        display.display(plt.gcf())\n",
    "        sleep(10)\n",
    "except KeyboardInterrupt:\n",
    "    pass"
   ]
  }
 ],
 "metadata": {
  "kernelspec": {
   "display_name": "Python 3 (ipykernel)",
   "language": "python",
   "name": "python3"
  },
  "language_info": {
   "codemirror_mode": {
    "name": "ipython",
    "version": 3
   },
   "file_extension": ".py",
   "mimetype": "text/x-python",
   "name": "python",
   "nbconvert_exporter": "python",
   "pygments_lexer": "ipython3",
   "version": "3.9.7"
  }
 },
 "nbformat": 4,
 "nbformat_minor": 5
}
