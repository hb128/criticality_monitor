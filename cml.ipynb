{
 "cells": [
  {
   "cell_type": "code",
   "execution_count": 1,
   "id": "372defb4-97aa-4636-81c6-1e5777749d87",
   "metadata": {},
   "outputs": [],
   "source": [
    "from ipynb.fs.defs.cml_functions import *\n",
    "from time import sleep"
   ]
  },
  {
   "cell_type": "code",
   "execution_count": 5,
   "id": "f78cf737-4a50-478a-8f33-507f967aaf49",
   "metadata": {
    "tags": []
   },
   "outputs": [
    {
     "name": "stderr",
     "output_type": "stream",
     "text": [
      "C:\\Users\\Hauke\\anaconda3\\lib\\site-packages\\IPython\\core\\display.py:724: UserWarning: Consider using IPython.display.IFrame instead\n",
      "  warnings.warn(\"Consider using IPython.display.IFrame instead\")\n"
     ]
    }
   ],
   "source": [
    "def cml_analyse(path,plot_save_path='cm_analysis/',search_radius=2):\n",
    "    name = os.path.basename(os.path.splitext(path)[0])\n",
    "    data = open_cm_log(path)\n",
    "    # STEP 1: Rough geographic selection \n",
    "    position_list = extract_json_positions(data)\n",
    "    positions_city = get_points_in_circle(position_list,get_hamburg_center())\n",
    "    # Second round\n",
    "    median = np.median(positions_city,axis=0)\n",
    "    p0 = get_points_in_circle(positions_city, median, radius_km=search_radius)\n",
    "\n",
    "    plt.plot(median[1],median[0],'xr',ms=20)\n",
    "    plt.plot(p0[:,1],p0[:,0],'.') #plot longitude, latitude\n",
    "    mplleaflet.display()\n",
    "    # STEP 2: Filter points belonging to train\n",
    "    p1=filter_train(p0)\n",
    "    # STEP 3: Sort out outliers within train by taking median of 3 neighboring points\n",
    "    p1_avg =  median_with_nearest(p1,n=3)\n",
    "    # STEP 4: Sort points\n",
    "    p2 = sort_points(p1_avg)\n",
    "    # STEP 5: Snap points to road\n",
    "    match0NoLoop,match0Unique = osrm_match(p2[:,:])\n",
    "    \n",
    "    # Create result plot\n",
    "    plt.plot(positions_city[:,1],positions_city[:,0],'b.')\n",
    "    plt.plot(p0[:,1],p0[:,0], 'xk')\n",
    "    plt.plot(p2[:,1],p2[:,0], 'ok')\n",
    "    # print('With loops:',getPathLength(match0Unique))\n",
    "    # print('Loops removed:',getPathLength(match0NoLoop))\n",
    "    plt.plot(match0Unique[:,1],match0Unique[:,0],'b-')\n",
    "    plt.plot(match0NoLoop[:,1],match0NoLoop[:,0],'r-',linewidth=3)\n",
    "    #mplleaflet.display(fig=f)\n",
    "    mplleaflet_update(path=os.path.join(plot_save_path,name+'.html'))\n",
    "    results = dict()\n",
    "    results['p0'] = p0\n",
    "    results['p1'] = p1\n",
    "    results['p1_avg'] = p1_avg\n",
    "    results['p2'] = p2\n",
    "    results['length'] = getPathLength(match0NoLoop)\n",
    "    return results\n",
    "\n",
    "#cml_analyse('cm_logs/20220624_210255.txt')\n",
    "#results = cml_analyse('cm_logs/20220624_203957.txt')\n",
    "results = cml_analyse('cm_logs/20220624_215158.txt')"
   ]
  },
  {
   "cell_type": "code",
   "execution_count": 6,
   "id": "5ee4ded3-1e8f-4b71-a980-38c22a9584bb",
   "metadata": {
    "tags": []
   },
   "outputs": [
    {
     "name": "stdout",
     "output_type": "stream",
     "text": [
      "cm_logs\\20220624_202509.txt\n"
     ]
    },
    {
     "name": "stderr",
     "output_type": "stream",
     "text": [
      "C:\\Users\\Hauke\\anaconda3\\lib\\site-packages\\IPython\\core\\display.py:724: UserWarning: Consider using IPython.display.IFrame instead\n",
      "  warnings.warn(\"Consider using IPython.display.IFrame instead\")\n"
     ]
    },
    {
     "name": "stdout",
     "output_type": "stream",
     "text": [
      "2044.8983335798464\n",
      "cm_logs\\20220624_202644.txt\n"
     ]
    },
    {
     "name": "stderr",
     "output_type": "stream",
     "text": [
      "C:\\Users\\Hauke\\anaconda3\\lib\\site-packages\\IPython\\core\\display.py:724: UserWarning: Consider using IPython.display.IFrame instead\n",
      "  warnings.warn(\"Consider using IPython.display.IFrame instead\")\n"
     ]
    },
    {
     "name": "stdout",
     "output_type": "stream",
     "text": [
      "2308.289905898358\n",
      "cm_logs\\20220624_202735.txt\n"
     ]
    },
    {
     "name": "stderr",
     "output_type": "stream",
     "text": [
      "C:\\Users\\Hauke\\anaconda3\\lib\\site-packages\\IPython\\core\\display.py:724: UserWarning: Consider using IPython.display.IFrame instead\n",
      "  warnings.warn(\"Consider using IPython.display.IFrame instead\")\n"
     ]
    },
    {
     "name": "stdout",
     "output_type": "stream",
     "text": [
      "2497.725246389616\n",
      "cm_logs\\20220624_202827.txt\n"
     ]
    },
    {
     "name": "stderr",
     "output_type": "stream",
     "text": [
      "C:\\Users\\Hauke\\anaconda3\\lib\\site-packages\\IPython\\core\\display.py:724: UserWarning: Consider using IPython.display.IFrame instead\n",
      "  warnings.warn(\"Consider using IPython.display.IFrame instead\")\n"
     ]
    },
    {
     "name": "stdout",
     "output_type": "stream",
     "text": [
      "2896.377251497851\n",
      "cm_logs\\20220624_202929.txt\n"
     ]
    },
    {
     "name": "stderr",
     "output_type": "stream",
     "text": [
      "C:\\Users\\Hauke\\anaconda3\\lib\\site-packages\\IPython\\core\\display.py:724: UserWarning: Consider using IPython.display.IFrame instead\n",
      "  warnings.warn(\"Consider using IPython.display.IFrame instead\")\n"
     ]
    },
    {
     "name": "stdout",
     "output_type": "stream",
     "text": [
      "2683.056331837286\n",
      "cm_logs\\20220624_203021.txt\n"
     ]
    },
    {
     "name": "stderr",
     "output_type": "stream",
     "text": [
      "C:\\Users\\Hauke\\anaconda3\\lib\\site-packages\\IPython\\core\\display.py:724: UserWarning: Consider using IPython.display.IFrame instead\n",
      "  warnings.warn(\"Consider using IPython.display.IFrame instead\")\n"
     ]
    },
    {
     "name": "stdout",
     "output_type": "stream",
     "text": [
      "( 12 - 13 ) and ( 22 - 23 ) Crossed intersection; inLoop= True\n",
      "( 22 - 23 ) and ( 12 - 13 ) Crossed intersection; inLoop= False\n",
      "3402.2306928448934\n",
      "cm_logs\\20220624_203113.txt\n"
     ]
    },
    {
     "name": "stderr",
     "output_type": "stream",
     "text": [
      "C:\\Users\\Hauke\\anaconda3\\lib\\site-packages\\IPython\\core\\display.py:724: UserWarning: Consider using IPython.display.IFrame instead\n",
      "  warnings.warn(\"Consider using IPython.display.IFrame instead\")\n"
     ]
    },
    {
     "name": "stdout",
     "output_type": "stream",
     "text": [
      "2266.8385580168533\n",
      "cm_logs\\20220624_203206.txt\n"
     ]
    },
    {
     "name": "stderr",
     "output_type": "stream",
     "text": [
      "C:\\Users\\Hauke\\anaconda3\\lib\\site-packages\\IPython\\core\\display.py:724: UserWarning: Consider using IPython.display.IFrame instead\n",
      "  warnings.warn(\"Consider using IPython.display.IFrame instead\")\n"
     ]
    },
    {
     "name": "stdout",
     "output_type": "stream",
     "text": [
      "2035.7968503296484\n",
      "cm_logs\\20220624_203258.txt\n"
     ]
    },
    {
     "name": "stderr",
     "output_type": "stream",
     "text": [
      "C:\\Users\\Hauke\\anaconda3\\lib\\site-packages\\IPython\\core\\display.py:724: UserWarning: Consider using IPython.display.IFrame instead\n",
      "  warnings.warn(\"Consider using IPython.display.IFrame instead\")\n"
     ]
    },
    {
     "name": "stdout",
     "output_type": "stream",
     "text": [
      "( 28 - 29 ) and ( 30 - 31 ) Crossed intersection; inLoop= True\n",
      "( 30 - 31 ) and ( 28 - 29 ) Crossed intersection; inLoop= False\n",
      "2158.35432901997\n",
      "cm_logs\\20220624_203350.txt\n"
     ]
    },
    {
     "name": "stderr",
     "output_type": "stream",
     "text": [
      "C:\\Users\\Hauke\\anaconda3\\lib\\site-packages\\IPython\\core\\display.py:724: UserWarning: Consider using IPython.display.IFrame instead\n",
      "  warnings.warn(\"Consider using IPython.display.IFrame instead\")\n"
     ]
    },
    {
     "name": "stdout",
     "output_type": "stream",
     "text": [
      "2324.486435127233\n",
      "cm_logs\\20220624_203442.txt\n"
     ]
    },
    {
     "name": "stderr",
     "output_type": "stream",
     "text": [
      "C:\\Users\\Hauke\\anaconda3\\lib\\site-packages\\IPython\\core\\display.py:724: UserWarning: Consider using IPython.display.IFrame instead\n",
      "  warnings.warn(\"Consider using IPython.display.IFrame instead\")\n"
     ]
    },
    {
     "name": "stdout",
     "output_type": "stream",
     "text": [
      "2111.4986691672875\n",
      "cm_logs\\20220624_203535.txt\n"
     ]
    },
    {
     "name": "stderr",
     "output_type": "stream",
     "text": [
      "C:\\Users\\Hauke\\anaconda3\\lib\\site-packages\\IPython\\core\\display.py:724: UserWarning: Consider using IPython.display.IFrame instead\n",
      "  warnings.warn(\"Consider using IPython.display.IFrame instead\")\n"
     ]
    },
    {
     "name": "stdout",
     "output_type": "stream",
     "text": [
      "1380.6351612670444\n",
      "cm_logs\\20220624_203627.txt\n"
     ]
    },
    {
     "name": "stderr",
     "output_type": "stream",
     "text": [
      "C:\\Users\\Hauke\\anaconda3\\lib\\site-packages\\IPython\\core\\display.py:724: UserWarning: Consider using IPython.display.IFrame instead\n",
      "  warnings.warn(\"Consider using IPython.display.IFrame instead\")\n"
     ]
    },
    {
     "name": "stdout",
     "output_type": "stream",
     "text": [
      "1564.684937443543\n",
      "cm_logs\\20220624_203719.txt\n"
     ]
    },
    {
     "name": "stderr",
     "output_type": "stream",
     "text": [
      "C:\\Users\\Hauke\\anaconda3\\lib\\site-packages\\IPython\\core\\display.py:724: UserWarning: Consider using IPython.display.IFrame instead\n",
      "  warnings.warn(\"Consider using IPython.display.IFrame instead\")\n"
     ]
    },
    {
     "name": "stdout",
     "output_type": "stream",
     "text": [
      "1832.7862711802939\n",
      "cm_logs\\20220624_203812.txt\n"
     ]
    },
    {
     "name": "stderr",
     "output_type": "stream",
     "text": [
      "C:\\Users\\Hauke\\anaconda3\\lib\\site-packages\\IPython\\core\\display.py:724: UserWarning: Consider using IPython.display.IFrame instead\n",
      "  warnings.warn(\"Consider using IPython.display.IFrame instead\")\n"
     ]
    },
    {
     "name": "stdout",
     "output_type": "stream",
     "text": [
      "1744.7445919258603\n",
      "cm_logs\\20220624_203904.txt\n"
     ]
    },
    {
     "name": "stderr",
     "output_type": "stream",
     "text": [
      "C:\\Users\\Hauke\\anaconda3\\lib\\site-packages\\IPython\\core\\display.py:724: UserWarning: Consider using IPython.display.IFrame instead\n",
      "  warnings.warn(\"Consider using IPython.display.IFrame instead\")\n"
     ]
    },
    {
     "name": "stdout",
     "output_type": "stream",
     "text": [
      "1536.7642560498502\n",
      "cm_logs\\20220624_203957.txt\n"
     ]
    },
    {
     "name": "stderr",
     "output_type": "stream",
     "text": [
      "C:\\Users\\Hauke\\anaconda3\\lib\\site-packages\\IPython\\core\\display.py:724: UserWarning: Consider using IPython.display.IFrame instead\n",
      "  warnings.warn(\"Consider using IPython.display.IFrame instead\")\n"
     ]
    },
    {
     "name": "stdout",
     "output_type": "stream",
     "text": [
      "1713.0318437005599\n",
      "cm_logs\\20220624_204049.txt\n"
     ]
    },
    {
     "name": "stderr",
     "output_type": "stream",
     "text": [
      "C:\\Users\\Hauke\\anaconda3\\lib\\site-packages\\IPython\\core\\display.py:724: UserWarning: Consider using IPython.display.IFrame instead\n",
      "  warnings.warn(\"Consider using IPython.display.IFrame instead\")\n"
     ]
    },
    {
     "name": "stdout",
     "output_type": "stream",
     "text": [
      "1830.609546441018\n",
      "cm_logs\\20220624_204141.txt\n"
     ]
    },
    {
     "name": "stderr",
     "output_type": "stream",
     "text": [
      "C:\\Users\\Hauke\\anaconda3\\lib\\site-packages\\IPython\\core\\display.py:724: UserWarning: Consider using IPython.display.IFrame instead\n",
      "  warnings.warn(\"Consider using IPython.display.IFrame instead\")\n"
     ]
    },
    {
     "name": "stdout",
     "output_type": "stream",
     "text": [
      "( 21 - 22 ) and ( 31 - 32 ) Crossed intersection; inLoop= True\n",
      "( 31 - 32 ) and ( 21 - 22 ) Crossed intersection; inLoop= False\n",
      "2946.2920828351057\n",
      "cm_logs\\20220624_204234.txt\n"
     ]
    },
    {
     "name": "stderr",
     "output_type": "stream",
     "text": [
      "C:\\Users\\Hauke\\anaconda3\\lib\\site-packages\\IPython\\core\\display.py:724: UserWarning: Consider using IPython.display.IFrame instead\n",
      "  warnings.warn(\"Consider using IPython.display.IFrame instead\")\n"
     ]
    },
    {
     "name": "stdout",
     "output_type": "stream",
     "text": [
      "( 1 - 2 ) and ( 4 - 5 ) Crossed intersection; inLoop= True\n",
      "( 4 - 5 ) and ( 1 - 2 ) Crossed intersection; inLoop= False\n",
      "2297.5236404563807\n",
      "cm_logs\\20220624_204326.txt\n"
     ]
    },
    {
     "name": "stderr",
     "output_type": "stream",
     "text": [
      "C:\\Users\\Hauke\\anaconda3\\lib\\site-packages\\IPython\\core\\display.py:724: UserWarning: Consider using IPython.display.IFrame instead\n",
      "  warnings.warn(\"Consider using IPython.display.IFrame instead\")\n"
     ]
    },
    {
     "name": "stdout",
     "output_type": "stream",
     "text": [
      "( 15 - 16 ) and ( 25 - 26 ) Crossed intersection; inLoop= True\n",
      "( 25 - 26 ) and ( 15 - 16 ) Crossed intersection; inLoop= False\n",
      "( 25 - 26 ) and ( 23 - 24 ) Crossed intersection; inLoop= True\n",
      "( 48 - 49 ) and ( 40 - 41 ) Crossed intersection; inLoop= False\n",
      "3946.7801555229967\n",
      "cm_logs\\20220624_204418.txt\n"
     ]
    },
    {
     "name": "stderr",
     "output_type": "stream",
     "text": [
      "C:\\Users\\Hauke\\anaconda3\\lib\\site-packages\\IPython\\core\\display.py:724: UserWarning: Consider using IPython.display.IFrame instead\n",
      "  warnings.warn(\"Consider using IPython.display.IFrame instead\")\n"
     ]
    },
    {
     "name": "stdout",
     "output_type": "stream",
     "text": [
      "( 8 - 9 ) and ( 14 - 15 ) Crossed intersection; inLoop= True\n",
      "( 14 - 15 ) and ( 8 - 9 ) Crossed intersection; inLoop= False\n",
      "( 15 - 16 ) and ( 20 - 21 ) Crossed intersection; inLoop= True\n",
      "( 15 - 16 ) and ( 21 - 22 ) Crossed intersection; inLoop= False\n",
      "3766.8498700943956\n",
      "cm_logs\\20220624_204511.txt\n"
     ]
    },
    {
     "name": "stderr",
     "output_type": "stream",
     "text": [
      "C:\\Users\\Hauke\\anaconda3\\lib\\site-packages\\IPython\\core\\display.py:724: UserWarning: Consider using IPython.display.IFrame instead\n",
      "  warnings.warn(\"Consider using IPython.display.IFrame instead\")\n"
     ]
    },
    {
     "name": "stdout",
     "output_type": "stream",
     "text": [
      "( 13 - 14 ) and ( 21 - 22 ) Crossed intersection; inLoop= True\n",
      "( 21 - 22 ) and ( 13 - 14 ) Crossed intersection; inLoop= False\n",
      "4339.039442688466\n",
      "cm_logs\\20220624_204603.txt\n"
     ]
    },
    {
     "name": "stderr",
     "output_type": "stream",
     "text": [
      "C:\\Users\\Hauke\\anaconda3\\lib\\site-packages\\IPython\\core\\display.py:724: UserWarning: Consider using IPython.display.IFrame instead\n",
      "  warnings.warn(\"Consider using IPython.display.IFrame instead\")\n"
     ]
    },
    {
     "name": "stdout",
     "output_type": "stream",
     "text": [
      "1723.506485376225\n",
      "cm_logs\\20220624_204655.txt\n"
     ]
    },
    {
     "name": "stderr",
     "output_type": "stream",
     "text": [
      "C:\\Users\\Hauke\\anaconda3\\lib\\site-packages\\IPython\\core\\display.py:724: UserWarning: Consider using IPython.display.IFrame instead\n",
      "  warnings.warn(\"Consider using IPython.display.IFrame instead\")\n"
     ]
    },
    {
     "name": "stdout",
     "output_type": "stream",
     "text": [
      "( 13 - 14 ) and ( 23 - 24 ) Crossed intersection; inLoop= True\n",
      "( 21 - 22 ) and ( 16 - 17 ) Crossed intersection; inLoop= False\n",
      "2272.608251175772\n",
      "cm_logs\\20220624_204747.txt\n"
     ]
    },
    {
     "name": "stderr",
     "output_type": "stream",
     "text": [
      "C:\\Users\\Hauke\\anaconda3\\lib\\site-packages\\IPython\\core\\display.py:724: UserWarning: Consider using IPython.display.IFrame instead\n",
      "  warnings.warn(\"Consider using IPython.display.IFrame instead\")\n"
     ]
    },
    {
     "name": "stdout",
     "output_type": "stream",
     "text": [
      "1825.0833577786298\n",
      "cm_logs\\20220624_204839.txt\n"
     ]
    },
    {
     "name": "stderr",
     "output_type": "stream",
     "text": [
      "C:\\Users\\Hauke\\anaconda3\\lib\\site-packages\\IPython\\core\\display.py:724: UserWarning: Consider using IPython.display.IFrame instead\n",
      "  warnings.warn(\"Consider using IPython.display.IFrame instead\")\n"
     ]
    },
    {
     "name": "stdout",
     "output_type": "stream",
     "text": [
      "( 3 - 4 ) and ( 20 - 21 ) Crossed intersection; inLoop= True\n",
      "( 3 - 4 ) and ( 21 - 22 ) Crossed intersection; inLoop= False\n",
      "( 4 - 5 ) and ( 17 - 18 ) Crossed intersection; inLoop= True\n",
      "( 4 - 5 ) and ( 21 - 22 ) Crossed intersection; inLoop= False\n",
      "( 5 - 6 ) and ( 21 - 22 ) Crossed intersection; inLoop= True\n",
      "( 14 - 15 ) and ( 6 - 7 ) Crossed intersection; inLoop= False\n",
      "( 17 - 18 ) and ( 21 - 22 ) Crossed intersection; inLoop= True\n",
      "( 20 - 21 ) and ( 3 - 4 ) Crossed intersection; inLoop= False\n",
      "( 24 - 25 ) and ( 39 - 40 ) Crossed intersection; inLoop= True\n",
      "( 39 - 40 ) and ( 9 - 10 ) Crossed intersection; inLoop= False\n",
      "( 39 - 40 ) and ( 10 - 11 ) Crossed intersection; inLoop= True\n",
      "( 39 - 40 ) and ( 24 - 25 ) Crossed intersection; inLoop= False\n",
      "1725.0155755091046\n",
      "cm_logs\\20220624_204938.txt\n"
     ]
    },
    {
     "name": "stderr",
     "output_type": "stream",
     "text": [
      "C:\\Users\\Hauke\\anaconda3\\lib\\site-packages\\IPython\\core\\display.py:724: UserWarning: Consider using IPython.display.IFrame instead\n",
      "  warnings.warn(\"Consider using IPython.display.IFrame instead\")\n"
     ]
    },
    {
     "name": "stdout",
     "output_type": "stream",
     "text": [
      "1285.239653898589\n",
      "cm_logs\\20220624_205030.txt\n"
     ]
    },
    {
     "name": "stderr",
     "output_type": "stream",
     "text": [
      "C:\\Users\\Hauke\\anaconda3\\lib\\site-packages\\IPython\\core\\display.py:724: UserWarning: Consider using IPython.display.IFrame instead\n",
      "  warnings.warn(\"Consider using IPython.display.IFrame instead\")\n"
     ]
    },
    {
     "name": "stdout",
     "output_type": "stream",
     "text": [
      "( 0 - 1 ) and ( 14 - 15 ) Crossed intersection; inLoop= True\n",
      "( 12 - 13 ) and ( 6 - 7 ) Crossed intersection; inLoop= False\n",
      "( 12 - 13 ) and ( 7 - 8 ) Crossed intersection; inLoop= True\n",
      "( 13 - 14 ) and ( 6 - 7 ) Crossed intersection; inLoop= False\n",
      "( 20 - 21 ) and ( 28 - 29 ) Crossed intersection; inLoop= True\n",
      "( 20 - 21 ) and ( 30 - 31 ) Crossed intersection; inLoop= False\n",
      "( 20 - 21 ) and ( 31 - 32 ) Crossed intersection; inLoop= True\n",
      "( 20 - 21 ) and ( 32 - 33 ) Crossed intersection; inLoop= False\n",
      "( 21 - 22 ) and ( 24 - 25 ) Crossed intersection; inLoop= True\n",
      "( 21 - 22 ) and ( 28 - 29 ) Crossed intersection; inLoop= False\n",
      "( 23 - 24 ) and ( 32 - 33 ) Crossed intersection; inLoop= True\n",
      "( 24 - 25 ) and ( 21 - 22 ) Crossed intersection; inLoop= False\n",
      "( 45 - 46 ) and ( 51 - 52 ) Crossed intersection; inLoop= True\n",
      "( 51 - 52 ) and ( 45 - 46 ) Crossed intersection; inLoop= False\n",
      "3456.3211858028662\n",
      "cm_logs\\20220624_205123.txt\n"
     ]
    },
    {
     "name": "stderr",
     "output_type": "stream",
     "text": [
      "C:\\Users\\Hauke\\anaconda3\\lib\\site-packages\\IPython\\core\\display.py:724: UserWarning: Consider using IPython.display.IFrame instead\n",
      "  warnings.warn(\"Consider using IPython.display.IFrame instead\")\n"
     ]
    },
    {
     "name": "stdout",
     "output_type": "stream",
     "text": [
      "( 9 - 10 ) and ( 15 - 16 ) Crossed intersection; inLoop= True\n",
      "( 15 - 16 ) and ( 9 - 10 ) Crossed intersection; inLoop= False\n",
      "( 26 - 27 ) and ( 29 - 30 ) Crossed intersection; inLoop= True\n",
      "( 26 - 27 ) and ( 34 - 35 ) Crossed intersection; inLoop= False\n",
      "( 26 - 27 ) and ( 35 - 36 ) Crossed intersection; inLoop= True\n",
      "( 26 - 27 ) and ( 36 - 37 ) Crossed intersection; inLoop= False\n",
      "( 27 - 28 ) and ( 36 - 37 ) Crossed intersection; inLoop= True\n",
      "( 29 - 30 ) and ( 26 - 27 ) Crossed intersection; inLoop= False\n",
      "( 34 - 35 ) and ( 36 - 37 ) Crossed intersection; inLoop= True\n",
      "( 35 - 36 ) and ( 26 - 27 ) Crossed intersection; inLoop= False\n",
      "3300.1032823337937\n",
      "cm_logs\\20220624_205216.txt\n"
     ]
    },
    {
     "name": "stderr",
     "output_type": "stream",
     "text": [
      "C:\\Users\\Hauke\\anaconda3\\lib\\site-packages\\IPython\\core\\display.py:724: UserWarning: Consider using IPython.display.IFrame instead\n",
      "  warnings.warn(\"Consider using IPython.display.IFrame instead\")\n"
     ]
    },
    {
     "name": "stdout",
     "output_type": "stream",
     "text": [
      "( 2 - 3 ) and ( 26 - 27 ) Crossed intersection; inLoop= True\n",
      "( 20 - 21 ) and ( 15 - 16 ) Crossed intersection; inLoop= False\n",
      "( 31 - 32 ) and ( 50 - 51 ) Crossed intersection; inLoop= True\n",
      "( 45 - 46 ) and ( 32 - 33 ) Crossed intersection; inLoop= False\n",
      "2482.0714853037866\n",
      "cm_logs\\20220624_205308.txt\n"
     ]
    },
    {
     "name": "stderr",
     "output_type": "stream",
     "text": [
      "C:\\Users\\Hauke\\anaconda3\\lib\\site-packages\\IPython\\core\\display.py:724: UserWarning: Consider using IPython.display.IFrame instead\n",
      "  warnings.warn(\"Consider using IPython.display.IFrame instead\")\n"
     ]
    },
    {
     "name": "stdout",
     "output_type": "stream",
     "text": [
      "( 3 - 4 ) and ( 28 - 29 ) Crossed intersection; inLoop= True\n",
      "( 23 - 24 ) and ( 17 - 18 ) Crossed intersection; inLoop= False\n",
      "( 33 - 34 ) and ( 36 - 37 ) Crossed intersection; inLoop= True\n",
      "( 36 - 37 ) and ( 33 - 34 ) Crossed intersection; inLoop= False\n",
      "2168.0337043427376\n",
      "cm_logs\\20220624_205400.txt\n"
     ]
    },
    {
     "name": "stderr",
     "output_type": "stream",
     "text": [
      "C:\\Users\\Hauke\\anaconda3\\lib\\site-packages\\IPython\\core\\display.py:724: UserWarning: Consider using IPython.display.IFrame instead\n",
      "  warnings.warn(\"Consider using IPython.display.IFrame instead\")\n"
     ]
    },
    {
     "name": "stdout",
     "output_type": "stream",
     "text": [
      "( 3 - 4 ) and ( 7 - 8 ) Crossed intersection; inLoop= True\n",
      "( 7 - 8 ) and ( 3 - 4 ) Crossed intersection; inLoop= False\n",
      "1850.930411078331\n",
      "cm_logs\\20220624_205453.txt\n"
     ]
    },
    {
     "name": "stderr",
     "output_type": "stream",
     "text": [
      "C:\\Users\\Hauke\\anaconda3\\lib\\site-packages\\IPython\\core\\display.py:724: UserWarning: Consider using IPython.display.IFrame instead\n",
      "  warnings.warn(\"Consider using IPython.display.IFrame instead\")\n"
     ]
    },
    {
     "name": "stdout",
     "output_type": "stream",
     "text": [
      "( 9 - 10 ) and ( 32 - 33 ) Crossed intersection; inLoop= True\n",
      "( 27 - 28 ) and ( 21 - 22 ) Crossed intersection; inLoop= False\n",
      "2728.424192382431\n",
      "cm_logs\\20220624_205545.txt\n"
     ]
    },
    {
     "name": "stderr",
     "output_type": "stream",
     "text": [
      "C:\\Users\\Hauke\\anaconda3\\lib\\site-packages\\IPython\\core\\display.py:724: UserWarning: Consider using IPython.display.IFrame instead\n",
      "  warnings.warn(\"Consider using IPython.display.IFrame instead\")\n"
     ]
    },
    {
     "name": "stdout",
     "output_type": "stream",
     "text": [
      "( 10 - 11 ) and ( 37 - 38 ) Crossed intersection; inLoop= True\n",
      "( 19 - 20 ) and ( 14 - 15 ) Crossed intersection; inLoop= False\n",
      "( 28 - 29 ) and ( 33 - 34 ) Crossed intersection; inLoop= True\n",
      "( 28 - 29 ) and ( 34 - 35 ) Crossed intersection; inLoop= False\n",
      "( 29 - 30 ) and ( 33 - 34 ) Crossed intersection; inLoop= True\n",
      "( 33 - 34 ) and ( 28 - 29 ) Crossed intersection; inLoop= False\n",
      "( 33 - 34 ) and ( 29 - 30 ) Crossed intersection; inLoop= True\n",
      "( 34 - 35 ) and ( 28 - 29 ) Crossed intersection; inLoop= False\n",
      "( 42 - 43 ) and ( 47 - 48 ) Crossed intersection; inLoop= True\n",
      "( 47 - 48 ) and ( 42 - 43 ) Crossed intersection; inLoop= False\n",
      "2827.598444959793\n",
      "cm_logs\\20220624_205637.txt\n"
     ]
    },
    {
     "name": "stderr",
     "output_type": "stream",
     "text": [
      "C:\\Users\\Hauke\\anaconda3\\lib\\site-packages\\IPython\\core\\display.py:724: UserWarning: Consider using IPython.display.IFrame instead\n",
      "  warnings.warn(\"Consider using IPython.display.IFrame instead\")\n"
     ]
    },
    {
     "name": "stdout",
     "output_type": "stream",
     "text": [
      "( 12 - 13 ) and ( 34 - 35 ) Crossed intersection; inLoop= True\n",
      "( 30 - 31 ) and ( 24 - 25 ) Crossed intersection; inLoop= False\n",
      "( 52 - 53 ) and ( 57 - 58 ) Crossed intersection; inLoop= True\n",
      "( 57 - 58 ) and ( 52 - 53 ) Crossed intersection; inLoop= False\n",
      "3919.6483029865067\n",
      "cm_logs\\20220624_205729.txt\n"
     ]
    },
    {
     "name": "stderr",
     "output_type": "stream",
     "text": [
      "C:\\Users\\Hauke\\anaconda3\\lib\\site-packages\\IPython\\core\\display.py:724: UserWarning: Consider using IPython.display.IFrame instead\n",
      "  warnings.warn(\"Consider using IPython.display.IFrame instead\")\n"
     ]
    },
    {
     "name": "stdout",
     "output_type": "stream",
     "text": [
      "( 11 - 12 ) and ( 26 - 27 ) Crossed intersection; inLoop= True\n",
      "( 25 - 26 ) and ( 19 - 20 ) Crossed intersection; inLoop= False\n",
      "1447.2699989347507\n",
      "cm_logs\\20220624_205822.txt\n"
     ]
    },
    {
     "name": "stderr",
     "output_type": "stream",
     "text": [
      "C:\\Users\\Hauke\\anaconda3\\lib\\site-packages\\IPython\\core\\display.py:724: UserWarning: Consider using IPython.display.IFrame instead\n",
      "  warnings.warn(\"Consider using IPython.display.IFrame instead\")\n"
     ]
    },
    {
     "name": "stdout",
     "output_type": "stream",
     "text": [
      "( 12 - 13 ) and ( 18 - 19 ) Crossed intersection; inLoop= True\n",
      "( 17 - 18 ) and ( 13 - 14 ) Crossed intersection; inLoop= False\n",
      "2240.1450685616746\n",
      "cm_logs\\20220624_205914.txt\n"
     ]
    },
    {
     "name": "stderr",
     "output_type": "stream",
     "text": [
      "C:\\Users\\Hauke\\anaconda3\\lib\\site-packages\\IPython\\core\\display.py:724: UserWarning: Consider using IPython.display.IFrame instead\n",
      "  warnings.warn(\"Consider using IPython.display.IFrame instead\")\n"
     ]
    },
    {
     "name": "stdout",
     "output_type": "stream",
     "text": [
      "2422.7947707150506\n",
      "cm_logs\\20220624_210006.txt\n"
     ]
    },
    {
     "name": "stderr",
     "output_type": "stream",
     "text": [
      "C:\\Users\\Hauke\\anaconda3\\lib\\site-packages\\IPython\\core\\display.py:724: UserWarning: Consider using IPython.display.IFrame instead\n",
      "  warnings.warn(\"Consider using IPython.display.IFrame instead\")\n"
     ]
    },
    {
     "name": "stdout",
     "output_type": "stream",
     "text": [
      "( 4 - 5 ) and ( 8 - 9 ) Crossed intersection; inLoop= True\n",
      "( 8 - 9 ) and ( 4 - 5 ) Crossed intersection; inLoop= False\n",
      "( 14 - 15 ) and ( 17 - 18 ) Crossed intersection; inLoop= True\n",
      "( 17 - 18 ) and ( 14 - 15 ) Crossed intersection; inLoop= False\n",
      "2225.1573196112026\n",
      "cm_logs\\20220624_210059.txt\n"
     ]
    },
    {
     "name": "stderr",
     "output_type": "stream",
     "text": [
      "C:\\Users\\Hauke\\anaconda3\\lib\\site-packages\\IPython\\core\\display.py:724: UserWarning: Consider using IPython.display.IFrame instead\n",
      "  warnings.warn(\"Consider using IPython.display.IFrame instead\")\n"
     ]
    },
    {
     "name": "stdout",
     "output_type": "stream",
     "text": [
      "( 12 - 13 ) and ( 14 - 15 ) Crossed intersection; inLoop= True\n",
      "( 14 - 15 ) and ( 12 - 13 ) Crossed intersection; inLoop= False\n",
      "( 20 - 21 ) and ( 32 - 33 ) Crossed intersection; inLoop= True\n",
      "( 32 - 33 ) and ( 20 - 21 ) Crossed intersection; inLoop= False\n",
      "3146.799243222592\n",
      "cm_logs\\20220624_210152.txt\n"
     ]
    },
    {
     "name": "stderr",
     "output_type": "stream",
     "text": [
      "C:\\Users\\Hauke\\anaconda3\\lib\\site-packages\\IPython\\core\\display.py:724: UserWarning: Consider using IPython.display.IFrame instead\n",
      "  warnings.warn(\"Consider using IPython.display.IFrame instead\")\n"
     ]
    },
    {
     "name": "stdout",
     "output_type": "stream",
     "text": [
      "( 15 - 16 ) and ( 17 - 18 ) Crossed intersection; inLoop= True\n",
      "( 17 - 18 ) and ( 15 - 16 ) Crossed intersection; inLoop= False\n",
      "5047.678839883629\n",
      "cm_logs\\20220624_210244.txt\n"
     ]
    },
    {
     "name": "stderr",
     "output_type": "stream",
     "text": [
      "C:\\Users\\Hauke\\anaconda3\\lib\\site-packages\\IPython\\core\\display.py:724: UserWarning: Consider using IPython.display.IFrame instead\n",
      "  warnings.warn(\"Consider using IPython.display.IFrame instead\")\n"
     ]
    },
    {
     "name": "stdout",
     "output_type": "stream",
     "text": [
      "2551.887611323079\n",
      "cm_logs\\20220624_210336.txt\n"
     ]
    },
    {
     "name": "stderr",
     "output_type": "stream",
     "text": [
      "C:\\Users\\Hauke\\anaconda3\\lib\\site-packages\\IPython\\core\\display.py:724: UserWarning: Consider using IPython.display.IFrame instead\n",
      "  warnings.warn(\"Consider using IPython.display.IFrame instead\")\n"
     ]
    },
    {
     "name": "stdout",
     "output_type": "stream",
     "text": [
      "( 0 - 1 ) and ( 12 - 13 ) Crossed intersection; inLoop= True\n",
      "( 12 - 13 ) and ( 0 - 1 ) Crossed intersection; inLoop= False\n",
      "1533.4133621893782\n",
      "cm_logs\\20220624_210428.txt\n"
     ]
    },
    {
     "name": "stderr",
     "output_type": "stream",
     "text": [
      "C:\\Users\\Hauke\\anaconda3\\lib\\site-packages\\IPython\\core\\display.py:724: UserWarning: Consider using IPython.display.IFrame instead\n",
      "  warnings.warn(\"Consider using IPython.display.IFrame instead\")\n"
     ]
    },
    {
     "name": "stdout",
     "output_type": "stream",
     "text": [
      "( 7 - 8 ) and ( 25 - 26 ) Crossed intersection; inLoop= True\n",
      "( 7 - 8 ) and ( 27 - 28 ) Crossed intersection; inLoop= False\n",
      "( 30 - 31 ) and ( 33 - 34 ) Crossed intersection; inLoop= True\n",
      "( 33 - 34 ) and ( 30 - 31 ) Crossed intersection; inLoop= False\n",
      "( 34 - 35 ) and ( 40 - 41 ) Crossed intersection; inLoop= True\n",
      "( 40 - 41 ) and ( 34 - 35 ) Crossed intersection; inLoop= False\n",
      "( 41 - 42 ) and ( 43 - 44 ) Crossed intersection; inLoop= True\n",
      "( 41 - 42 ) and ( 44 - 45 ) Crossed intersection; inLoop= False\n",
      "( 42 - 43 ) and ( 45 - 46 ) Crossed intersection; inLoop= True\n",
      "( 43 - 44 ) and ( 41 - 42 ) Crossed intersection; inLoop= False\n",
      "3415.0626390485772\n",
      "cm_logs\\20220624_210521.txt\n"
     ]
    },
    {
     "name": "stderr",
     "output_type": "stream",
     "text": [
      "C:\\Users\\Hauke\\anaconda3\\lib\\site-packages\\IPython\\core\\display.py:724: UserWarning: Consider using IPython.display.IFrame instead\n",
      "  warnings.warn(\"Consider using IPython.display.IFrame instead\")\n"
     ]
    },
    {
     "name": "stdout",
     "output_type": "stream",
     "text": [
      "( 8 - 9 ) and ( 12 - 13 ) Crossed intersection; inLoop= True\n",
      "( 8 - 9 ) and ( 13 - 14 ) Crossed intersection; inLoop= False\n",
      "( 9 - 10 ) and ( 13 - 14 ) Crossed intersection; inLoop= True\n",
      "( 9 - 10 ) and ( 16 - 17 ) Crossed intersection; inLoop= False\n",
      "( 9 - 10 ) and ( 18 - 19 ) Crossed intersection; inLoop= True\n",
      "( 12 - 13 ) and ( 8 - 9 ) Crossed intersection; inLoop= False\n",
      "( 13 - 14 ) and ( 19 - 20 ) Crossed intersection; inLoop= True\n",
      "( 13 - 14 ) and ( 20 - 21 ) Crossed intersection; inLoop= False\n",
      "( 13 - 14 ) and ( 24 - 25 ) Crossed intersection; inLoop= True\n",
      "( 13 - 14 ) and ( 25 - 26 ) Crossed intersection; inLoop= False\n",
      "( 15 - 16 ) and ( 22 - 23 ) Crossed intersection; inLoop= True\n",
      "( 15 - 16 ) and ( 24 - 25 ) Crossed intersection; inLoop= False\n",
      "( 15 - 16 ) and ( 25 - 26 ) Crossed intersection; inLoop= True\n",
      "( 16 - 17 ) and ( 9 - 10 ) Crossed intersection; inLoop= False\n",
      "( 16 - 17 ) and ( 10 - 11 ) Crossed intersection; inLoop= True\n",
      "( 17 - 18 ) and ( 10 - 11 ) Crossed intersection; inLoop= False\n",
      "( 17 - 18 ) and ( 11 - 12 ) Crossed intersection; inLoop= True\n",
      "( 18 - 19 ) and ( 9 - 10 ) Crossed intersection; inLoop= False\n",
      "( 18 - 19 ) and ( 11 - 12 ) Crossed intersection; inLoop= True\n",
      "( 19 - 20 ) and ( 13 - 14 ) Crossed intersection; inLoop= False\n",
      "( 22 - 23 ) and ( 24 - 25 ) Crossed intersection; inLoop= True\n",
      "( 24 - 25 ) and ( 13 - 14 ) Crossed intersection; inLoop= False\n",
      "( 24 - 25 ) and ( 15 - 16 ) Crossed intersection; inLoop= True\n",
      "( 24 - 25 ) and ( 22 - 23 ) Crossed intersection; inLoop= False\n",
      "( 28 - 29 ) and ( 30 - 31 ) Crossed intersection; inLoop= True\n",
      "( 28 - 29 ) and ( 31 - 32 ) Crossed intersection; inLoop= False\n",
      "( 29 - 30 ) and ( 31 - 32 ) Crossed intersection; inLoop= True\n",
      "( 30 - 31 ) and ( 28 - 29 ) Crossed intersection; inLoop= False\n",
      "2997.9798292270084\n",
      "cm_logs\\20220624_210613.txt\n"
     ]
    },
    {
     "name": "stderr",
     "output_type": "stream",
     "text": [
      "C:\\Users\\Hauke\\anaconda3\\lib\\site-packages\\IPython\\core\\display.py:724: UserWarning: Consider using IPython.display.IFrame instead\n",
      "  warnings.warn(\"Consider using IPython.display.IFrame instead\")\n"
     ]
    },
    {
     "name": "stdout",
     "output_type": "stream",
     "text": [
      "1493.781946350054\n",
      "cm_logs\\20220624_210706.txt\n"
     ]
    },
    {
     "name": "stderr",
     "output_type": "stream",
     "text": [
      "C:\\Users\\Hauke\\anaconda3\\lib\\site-packages\\IPython\\core\\display.py:724: UserWarning: Consider using IPython.display.IFrame instead\n",
      "  warnings.warn(\"Consider using IPython.display.IFrame instead\")\n"
     ]
    },
    {
     "name": "stdout",
     "output_type": "stream",
     "text": [
      "1145.890618960557\n",
      "cm_logs\\20220624_210758.txt\n"
     ]
    },
    {
     "name": "stderr",
     "output_type": "stream",
     "text": [
      "C:\\Users\\Hauke\\anaconda3\\lib\\site-packages\\IPython\\core\\display.py:724: UserWarning: Consider using IPython.display.IFrame instead\n",
      "  warnings.warn(\"Consider using IPython.display.IFrame instead\")\n"
     ]
    },
    {
     "name": "stdout",
     "output_type": "stream",
     "text": [
      "1229.788672416108\n",
      "cm_logs\\20220624_210851.txt\n"
     ]
    },
    {
     "name": "stderr",
     "output_type": "stream",
     "text": [
      "C:\\Users\\Hauke\\anaconda3\\lib\\site-packages\\IPython\\core\\display.py:724: UserWarning: Consider using IPython.display.IFrame instead\n",
      "  warnings.warn(\"Consider using IPython.display.IFrame instead\")\n"
     ]
    },
    {
     "name": "stdout",
     "output_type": "stream",
     "text": [
      "1309.9884125068559\n",
      "cm_logs\\20220624_210943.txt\n"
     ]
    },
    {
     "name": "stderr",
     "output_type": "stream",
     "text": [
      "C:\\Users\\Hauke\\anaconda3\\lib\\site-packages\\IPython\\core\\display.py:724: UserWarning: Consider using IPython.display.IFrame instead\n",
      "  warnings.warn(\"Consider using IPython.display.IFrame instead\")\n"
     ]
    },
    {
     "name": "stdout",
     "output_type": "stream",
     "text": [
      "1130.0342500320849\n",
      "cm_logs\\20220624_211036.txt\n"
     ]
    },
    {
     "name": "stderr",
     "output_type": "stream",
     "text": [
      "C:\\Users\\Hauke\\anaconda3\\lib\\site-packages\\IPython\\core\\display.py:724: UserWarning: Consider using IPython.display.IFrame instead\n",
      "  warnings.warn(\"Consider using IPython.display.IFrame instead\")\n"
     ]
    },
    {
     "name": "stdout",
     "output_type": "stream",
     "text": [
      "1390.198569536819\n",
      "cm_logs\\20220624_211129.txt\n"
     ]
    },
    {
     "name": "stderr",
     "output_type": "stream",
     "text": [
      "C:\\Users\\Hauke\\anaconda3\\lib\\site-packages\\IPython\\core\\display.py:724: UserWarning: Consider using IPython.display.IFrame instead\n",
      "  warnings.warn(\"Consider using IPython.display.IFrame instead\")\n"
     ]
    },
    {
     "name": "stdout",
     "output_type": "stream",
     "text": [
      "1301.7616778595143\n",
      "cm_logs\\20220624_211221.txt\n"
     ]
    },
    {
     "name": "stderr",
     "output_type": "stream",
     "text": [
      "C:\\Users\\Hauke\\anaconda3\\lib\\site-packages\\IPython\\core\\display.py:724: UserWarning: Consider using IPython.display.IFrame instead\n",
      "  warnings.warn(\"Consider using IPython.display.IFrame instead\")\n"
     ]
    },
    {
     "name": "stdout",
     "output_type": "stream",
     "text": [
      "1285.9405739246965\n",
      "cm_logs\\20220624_211314.txt\n"
     ]
    },
    {
     "name": "stderr",
     "output_type": "stream",
     "text": [
      "C:\\Users\\Hauke\\anaconda3\\lib\\site-packages\\IPython\\core\\display.py:724: UserWarning: Consider using IPython.display.IFrame instead\n",
      "  warnings.warn(\"Consider using IPython.display.IFrame instead\")\n"
     ]
    },
    {
     "name": "stdout",
     "output_type": "stream",
     "text": [
      "1158.5182497747255\n",
      "cm_logs\\20220624_211406.txt\n"
     ]
    },
    {
     "name": "stderr",
     "output_type": "stream",
     "text": [
      "C:\\Users\\Hauke\\anaconda3\\lib\\site-packages\\IPython\\core\\display.py:724: UserWarning: Consider using IPython.display.IFrame instead\n",
      "  warnings.warn(\"Consider using IPython.display.IFrame instead\")\n"
     ]
    },
    {
     "name": "stdout",
     "output_type": "stream",
     "text": [
      "1296.8162491256053\n",
      "cm_logs\\20220624_211458.txt\n"
     ]
    },
    {
     "name": "stderr",
     "output_type": "stream",
     "text": [
      "C:\\Users\\Hauke\\anaconda3\\lib\\site-packages\\IPython\\core\\display.py:724: UserWarning: Consider using IPython.display.IFrame instead\n",
      "  warnings.warn(\"Consider using IPython.display.IFrame instead\")\n"
     ]
    },
    {
     "name": "stdout",
     "output_type": "stream",
     "text": [
      "1408.9101807357924\n",
      "cm_logs\\20220624_211551.txt\n"
     ]
    },
    {
     "name": "stderr",
     "output_type": "stream",
     "text": [
      "C:\\Users\\Hauke\\anaconda3\\lib\\site-packages\\IPython\\core\\display.py:724: UserWarning: Consider using IPython.display.IFrame instead\n",
      "  warnings.warn(\"Consider using IPython.display.IFrame instead\")\n"
     ]
    },
    {
     "name": "stdout",
     "output_type": "stream",
     "text": [
      "1347.2720660278758\n",
      "cm_logs\\20220624_211643.txt\n"
     ]
    },
    {
     "name": "stderr",
     "output_type": "stream",
     "text": [
      "C:\\Users\\Hauke\\anaconda3\\lib\\site-packages\\IPython\\core\\display.py:724: UserWarning: Consider using IPython.display.IFrame instead\n",
      "  warnings.warn(\"Consider using IPython.display.IFrame instead\")\n"
     ]
    },
    {
     "name": "stdout",
     "output_type": "stream",
     "text": [
      "1427.5812111339183\n",
      "cm_logs\\20220624_211736.txt\n"
     ]
    },
    {
     "name": "stderr",
     "output_type": "stream",
     "text": [
      "C:\\Users\\Hauke\\anaconda3\\lib\\site-packages\\IPython\\core\\display.py:724: UserWarning: Consider using IPython.display.IFrame instead\n",
      "  warnings.warn(\"Consider using IPython.display.IFrame instead\")\n"
     ]
    },
    {
     "name": "stdout",
     "output_type": "stream",
     "text": [
      "1575.3967260985692\n",
      "cm_logs\\20220624_211828.txt\n"
     ]
    },
    {
     "name": "stderr",
     "output_type": "stream",
     "text": [
      "C:\\Users\\Hauke\\anaconda3\\lib\\site-packages\\IPython\\core\\display.py:724: UserWarning: Consider using IPython.display.IFrame instead\n",
      "  warnings.warn(\"Consider using IPython.display.IFrame instead\")\n"
     ]
    },
    {
     "name": "stdout",
     "output_type": "stream",
     "text": [
      "1252.056372296106\n",
      "cm_logs\\20220624_211921.txt\n"
     ]
    },
    {
     "name": "stderr",
     "output_type": "stream",
     "text": [
      "C:\\Users\\Hauke\\anaconda3\\lib\\site-packages\\IPython\\core\\display.py:724: UserWarning: Consider using IPython.display.IFrame instead\n",
      "  warnings.warn(\"Consider using IPython.display.IFrame instead\")\n"
     ]
    },
    {
     "name": "stdout",
     "output_type": "stream",
     "text": [
      "1663.0252968550608\n",
      "cm_logs\\20220624_212013.txt\n"
     ]
    },
    {
     "name": "stderr",
     "output_type": "stream",
     "text": [
      "C:\\Users\\Hauke\\anaconda3\\lib\\site-packages\\IPython\\core\\display.py:724: UserWarning: Consider using IPython.display.IFrame instead\n",
      "  warnings.warn(\"Consider using IPython.display.IFrame instead\")\n"
     ]
    },
    {
     "name": "stdout",
     "output_type": "stream",
     "text": [
      "1114.4872115234527\n",
      "cm_logs\\20220624_212106.txt\n"
     ]
    },
    {
     "name": "stderr",
     "output_type": "stream",
     "text": [
      "C:\\Users\\Hauke\\anaconda3\\lib\\site-packages\\IPython\\core\\display.py:724: UserWarning: Consider using IPython.display.IFrame instead\n",
      "  warnings.warn(\"Consider using IPython.display.IFrame instead\")\n"
     ]
    },
    {
     "name": "stdout",
     "output_type": "stream",
     "text": [
      "1157.0940154088405\n",
      "cm_logs\\20220624_212158.txt\n"
     ]
    },
    {
     "name": "stderr",
     "output_type": "stream",
     "text": [
      "C:\\Users\\Hauke\\anaconda3\\lib\\site-packages\\IPython\\core\\display.py:724: UserWarning: Consider using IPython.display.IFrame instead\n",
      "  warnings.warn(\"Consider using IPython.display.IFrame instead\")\n"
     ]
    },
    {
     "name": "stdout",
     "output_type": "stream",
     "text": [
      "( 20 - 21 ) and ( 27 - 28 ) Crossed intersection; inLoop= True\n",
      "( 20 - 21 ) and ( 28 - 29 ) Crossed intersection; inLoop= False\n",
      "( 21 - 22 ) and ( 28 - 29 ) Crossed intersection; inLoop= True\n",
      "( 21 - 22 ) and ( 29 - 30 ) Crossed intersection; inLoop= False\n",
      "( 22 - 23 ) and ( 29 - 30 ) Crossed intersection; inLoop= True\n",
      "( 22 - 23 ) and ( 30 - 31 ) Crossed intersection; inLoop= False\n",
      "( 23 - 24 ) and ( 30 - 31 ) Crossed intersection; inLoop= True\n",
      "( 27 - 28 ) and ( 20 - 21 ) Crossed intersection; inLoop= False\n",
      "1196.1902500025076\n",
      "cm_logs\\20220624_212250.txt\n"
     ]
    },
    {
     "name": "stderr",
     "output_type": "stream",
     "text": [
      "C:\\Users\\Hauke\\anaconda3\\lib\\site-packages\\IPython\\core\\display.py:724: UserWarning: Consider using IPython.display.IFrame instead\n",
      "  warnings.warn(\"Consider using IPython.display.IFrame instead\")\n"
     ]
    },
    {
     "name": "stdout",
     "output_type": "stream",
     "text": [
      "( 10 - 11 ) and ( 17 - 18 ) Crossed intersection; inLoop= True\n",
      "( 17 - 18 ) and ( 10 - 11 ) Crossed intersection; inLoop= False\n",
      "( 18 - 19 ) and ( 30 - 31 ) Crossed intersection; inLoop= True\n",
      "( 18 - 19 ) and ( 33 - 34 ) Crossed intersection; inLoop= False\n",
      "1671.570020920651\n",
      "cm_logs\\20220624_212343.txt\n"
     ]
    },
    {
     "name": "stderr",
     "output_type": "stream",
     "text": [
      "C:\\Users\\Hauke\\anaconda3\\lib\\site-packages\\IPython\\core\\display.py:724: UserWarning: Consider using IPython.display.IFrame instead\n",
      "  warnings.warn(\"Consider using IPython.display.IFrame instead\")\n"
     ]
    },
    {
     "name": "stdout",
     "output_type": "stream",
     "text": [
      "( 6 - 7 ) and ( 15 - 16 ) Crossed intersection; inLoop= True\n",
      "( 6 - 7 ) and ( 17 - 18 ) Crossed intersection; inLoop= False\n",
      "( 10 - 11 ) and ( 17 - 18 ) Crossed intersection; inLoop= True\n",
      "( 15 - 16 ) and ( 6 - 7 ) Crossed intersection; inLoop= False\n",
      "( 18 - 19 ) and ( 27 - 28 ) Crossed intersection; inLoop= True\n",
      "( 22 - 23 ) and ( 19 - 20 ) Crossed intersection; inLoop= False\n",
      "( 29 - 30 ) and ( 47 - 48 ) Crossed intersection; inLoop= True\n",
      "( 47 - 48 ) and ( 29 - 30 ) Crossed intersection; inLoop= False\n",
      "1723.3570092408336\n",
      "cm_logs\\20220624_212435.txt\n"
     ]
    },
    {
     "name": "stderr",
     "output_type": "stream",
     "text": [
      "C:\\Users\\Hauke\\anaconda3\\lib\\site-packages\\IPython\\core\\display.py:724: UserWarning: Consider using IPython.display.IFrame instead\n",
      "  warnings.warn(\"Consider using IPython.display.IFrame instead\")\n"
     ]
    },
    {
     "name": "stdout",
     "output_type": "stream",
     "text": [
      "( 10 - 11 ) and ( 18 - 19 ) Crossed intersection; inLoop= True\n",
      "( 10 - 11 ) and ( 19 - 20 ) Crossed intersection; inLoop= False\n",
      "( 11 - 12 ) and ( 19 - 20 ) Crossed intersection; inLoop= True\n",
      "( 18 - 19 ) and ( 10 - 11 ) Crossed intersection; inLoop= False\n",
      "( 23 - 24 ) and ( 30 - 31 ) Crossed intersection; inLoop= True\n",
      "( 30 - 31 ) and ( 23 - 24 ) Crossed intersection; inLoop= False\n",
      "( 32 - 33 ) and ( 46 - 47 ) Crossed intersection; inLoop= True\n",
      "( 46 - 47 ) and ( 32 - 33 ) Crossed intersection; inLoop= False\n",
      "1397.205957317014\n",
      "cm_logs\\20220624_212527.txt\n"
     ]
    },
    {
     "name": "stderr",
     "output_type": "stream",
     "text": [
      "C:\\Users\\Hauke\\anaconda3\\lib\\site-packages\\IPython\\core\\display.py:724: UserWarning: Consider using IPython.display.IFrame instead\n",
      "  warnings.warn(\"Consider using IPython.display.IFrame instead\")\n"
     ]
    },
    {
     "name": "stdout",
     "output_type": "stream",
     "text": [
      "( 13 - 14 ) and ( 22 - 23 ) Crossed intersection; inLoop= True\n",
      "( 16 - 17 ) and ( 14 - 15 ) Crossed intersection; inLoop= False\n",
      "( 22 - 23 ) and ( 34 - 35 ) Crossed intersection; inLoop= True\n",
      "( 34 - 35 ) and ( 22 - 23 ) Crossed intersection; inLoop= False\n",
      "( 34 - 35 ) and ( 23 - 24 ) Crossed intersection; inLoop= True\n",
      "( 35 - 36 ) and ( 24 - 25 ) Crossed intersection; inLoop= False\n",
      "2701.2997535392415\n",
      "cm_logs\\20220624_212620.txt\n"
     ]
    },
    {
     "name": "stderr",
     "output_type": "stream",
     "text": [
      "C:\\Users\\Hauke\\anaconda3\\lib\\site-packages\\IPython\\core\\display.py:724: UserWarning: Consider using IPython.display.IFrame instead\n",
      "  warnings.warn(\"Consider using IPython.display.IFrame instead\")\n"
     ]
    },
    {
     "name": "stdout",
     "output_type": "stream",
     "text": [
      "2586.9805055511692\n",
      "cm_logs\\20220624_212712.txt\n"
     ]
    },
    {
     "name": "stderr",
     "output_type": "stream",
     "text": [
      "C:\\Users\\Hauke\\anaconda3\\lib\\site-packages\\IPython\\core\\display.py:724: UserWarning: Consider using IPython.display.IFrame instead\n",
      "  warnings.warn(\"Consider using IPython.display.IFrame instead\")\n"
     ]
    },
    {
     "name": "stdout",
     "output_type": "stream",
     "text": [
      "( 16 - 17 ) and ( 27 - 28 ) Crossed intersection; inLoop= True\n",
      "( 16 - 17 ) and ( 28 - 29 ) Crossed intersection; inLoop= False\n",
      "( 17 - 18 ) and ( 28 - 29 ) Crossed intersection; inLoop= True\n",
      "( 25 - 26 ) and ( 20 - 21 ) Crossed intersection; inLoop= False\n",
      "( 30 - 31 ) and ( 38 - 39 ) Crossed intersection; inLoop= True\n",
      "( 33 - 34 ) and ( 31 - 32 ) Crossed intersection; inLoop= False\n",
      "( 38 - 39 ) and ( 47 - 48 ) Crossed intersection; inLoop= True\n",
      "( 47 - 48 ) and ( 38 - 39 ) Crossed intersection; inLoop= False\n",
      "( 47 - 48 ) and ( 39 - 40 ) Crossed intersection; inLoop= True\n",
      "2240.139968243044\n",
      "cm_logs\\20220624_212804.txt\n"
     ]
    },
    {
     "name": "stderr",
     "output_type": "stream",
     "text": [
      "C:\\Users\\Hauke\\anaconda3\\lib\\site-packages\\IPython\\core\\display.py:724: UserWarning: Consider using IPython.display.IFrame instead\n",
      "  warnings.warn(\"Consider using IPython.display.IFrame instead\")\n"
     ]
    },
    {
     "name": "stdout",
     "output_type": "stream",
     "text": [
      "( 20 - 21 ) and ( 28 - 29 ) Crossed intersection; inLoop= True\n",
      "( 20 - 21 ) and ( 29 - 30 ) Crossed intersection; inLoop= False\n",
      "( 21 - 22 ) and ( 29 - 30 ) Crossed intersection; inLoop= True\n",
      "( 28 - 29 ) and ( 20 - 21 ) Crossed intersection; inLoop= False\n",
      "( 32 - 33 ) and ( 35 - 36 ) Crossed intersection; inLoop= True\n",
      "( 35 - 36 ) and ( 32 - 33 ) Crossed intersection; inLoop= False\n",
      "( 37 - 38 ) and ( 40 - 41 ) Crossed intersection; inLoop= True\n",
      "( 40 - 41 ) and ( 37 - 38 ) Crossed intersection; inLoop= False\n",
      "( 41 - 42 ) and ( 51 - 52 ) Crossed intersection; inLoop= True\n",
      "( 51 - 52 ) and ( 41 - 42 ) Crossed intersection; inLoop= False\n",
      "( 51 - 52 ) and ( 42 - 43 ) Crossed intersection; inLoop= True\n",
      "1861.9046189140836\n",
      "cm_logs\\20220624_212856.txt\n"
     ]
    },
    {
     "name": "stderr",
     "output_type": "stream",
     "text": [
      "C:\\Users\\Hauke\\anaconda3\\lib\\site-packages\\IPython\\core\\display.py:724: UserWarning: Consider using IPython.display.IFrame instead\n",
      "  warnings.warn(\"Consider using IPython.display.IFrame instead\")\n"
     ]
    },
    {
     "name": "stdout",
     "output_type": "stream",
     "text": [
      "( 23 - 24 ) and ( 31 - 32 ) Crossed intersection; inLoop= True\n",
      "( 30 - 31 ) and ( 26 - 27 ) Crossed intersection; inLoop= False\n",
      "( 31 - 32 ) and ( 40 - 41 ) Crossed intersection; inLoop= True\n",
      "( 40 - 41 ) and ( 31 - 32 ) Crossed intersection; inLoop= False\n",
      "( 40 - 41 ) and ( 32 - 33 ) Crossed intersection; inLoop= True\n",
      "2187.4414820929205\n",
      "cm_logs\\20220624_212949.txt\n"
     ]
    },
    {
     "name": "stderr",
     "output_type": "stream",
     "text": [
      "C:\\Users\\Hauke\\anaconda3\\lib\\site-packages\\IPython\\core\\display.py:724: UserWarning: Consider using IPython.display.IFrame instead\n",
      "  warnings.warn(\"Consider using IPython.display.IFrame instead\")\n"
     ]
    },
    {
     "name": "stdout",
     "output_type": "stream",
     "text": [
      "1839.6498814206598\n",
      "cm_logs\\20220624_213041.txt\n"
     ]
    },
    {
     "name": "stderr",
     "output_type": "stream",
     "text": [
      "C:\\Users\\Hauke\\anaconda3\\lib\\site-packages\\IPython\\core\\display.py:724: UserWarning: Consider using IPython.display.IFrame instead\n",
      "  warnings.warn(\"Consider using IPython.display.IFrame instead\")\n"
     ]
    },
    {
     "name": "stdout",
     "output_type": "stream",
     "text": [
      "( 0 - 1 ) and ( 5 - 6 ) Crossed intersection; inLoop= True\n",
      "( 5 - 6 ) and ( 0 - 1 ) Crossed intersection; inLoop= False\n",
      "3028.407289449764\n",
      "cm_logs\\20220624_213133.txt\n"
     ]
    },
    {
     "name": "stderr",
     "output_type": "stream",
     "text": [
      "C:\\Users\\Hauke\\anaconda3\\lib\\site-packages\\IPython\\core\\display.py:724: UserWarning: Consider using IPython.display.IFrame instead\n",
      "  warnings.warn(\"Consider using IPython.display.IFrame instead\")\n"
     ]
    },
    {
     "name": "stdout",
     "output_type": "stream",
     "text": [
      "( 9 - 10 ) and ( 27 - 28 ) Crossed intersection; inLoop= True\n",
      "( 26 - 27 ) and ( 10 - 11 ) Crossed intersection; inLoop= False\n",
      "( 26 - 27 ) and ( 17 - 18 ) Crossed intersection; inLoop= True\n",
      "( 27 - 28 ) and ( 9 - 10 ) Crossed intersection; inLoop= False\n",
      "2741.6667547626603\n",
      "cm_logs\\20220624_213225.txt\n"
     ]
    },
    {
     "name": "stderr",
     "output_type": "stream",
     "text": [
      "C:\\Users\\Hauke\\anaconda3\\lib\\site-packages\\IPython\\core\\display.py:724: UserWarning: Consider using IPython.display.IFrame instead\n",
      "  warnings.warn(\"Consider using IPython.display.IFrame instead\")\n"
     ]
    },
    {
     "name": "stdout",
     "output_type": "stream",
     "text": [
      "5405.260801154543\n",
      "cm_logs\\20220624_213318.txt\n"
     ]
    },
    {
     "name": "stderr",
     "output_type": "stream",
     "text": [
      "C:\\Users\\Hauke\\anaconda3\\lib\\site-packages\\IPython\\core\\display.py:724: UserWarning: Consider using IPython.display.IFrame instead\n",
      "  warnings.warn(\"Consider using IPython.display.IFrame instead\")\n"
     ]
    },
    {
     "name": "stdout",
     "output_type": "stream",
     "text": [
      "3839.29233877463\n",
      "cm_logs\\20220624_213410.txt\n"
     ]
    },
    {
     "name": "stderr",
     "output_type": "stream",
     "text": [
      "C:\\Users\\Hauke\\anaconda3\\lib\\site-packages\\IPython\\core\\display.py:724: UserWarning: Consider using IPython.display.IFrame instead\n",
      "  warnings.warn(\"Consider using IPython.display.IFrame instead\")\n"
     ]
    },
    {
     "name": "stdout",
     "output_type": "stream",
     "text": [
      "3089.1115370105927\n",
      "cm_logs\\20220624_213503.txt\n"
     ]
    },
    {
     "name": "stderr",
     "output_type": "stream",
     "text": [
      "C:\\Users\\Hauke\\anaconda3\\lib\\site-packages\\IPython\\core\\display.py:724: UserWarning: Consider using IPython.display.IFrame instead\n",
      "  warnings.warn(\"Consider using IPython.display.IFrame instead\")\n"
     ]
    },
    {
     "name": "stdout",
     "output_type": "stream",
     "text": [
      "2305.563907753095\n",
      "cm_logs\\20220624_213555.txt\n"
     ]
    },
    {
     "name": "stderr",
     "output_type": "stream",
     "text": [
      "C:\\Users\\Hauke\\anaconda3\\lib\\site-packages\\IPython\\core\\display.py:724: UserWarning: Consider using IPython.display.IFrame instead\n",
      "  warnings.warn(\"Consider using IPython.display.IFrame instead\")\n"
     ]
    },
    {
     "name": "stdout",
     "output_type": "stream",
     "text": [
      "1210.6194367824883\n",
      "cm_logs\\20220624_213647.txt\n"
     ]
    },
    {
     "name": "stderr",
     "output_type": "stream",
     "text": [
      "C:\\Users\\Hauke\\anaconda3\\lib\\site-packages\\IPython\\core\\display.py:724: UserWarning: Consider using IPython.display.IFrame instead\n",
      "  warnings.warn(\"Consider using IPython.display.IFrame instead\")\n"
     ]
    },
    {
     "name": "stdout",
     "output_type": "stream",
     "text": [
      "1209.666826605171\n",
      "cm_logs\\20220624_213739.txt\n"
     ]
    },
    {
     "name": "stderr",
     "output_type": "stream",
     "text": [
      "C:\\Users\\Hauke\\anaconda3\\lib\\site-packages\\IPython\\core\\display.py:724: UserWarning: Consider using IPython.display.IFrame instead\n",
      "  warnings.warn(\"Consider using IPython.display.IFrame instead\")\n"
     ]
    },
    {
     "name": "stdout",
     "output_type": "stream",
     "text": [
      "1379.9673047757274\n",
      "cm_logs\\20220624_213831.txt\n"
     ]
    },
    {
     "name": "stderr",
     "output_type": "stream",
     "text": [
      "C:\\Users\\Hauke\\anaconda3\\lib\\site-packages\\IPython\\core\\display.py:724: UserWarning: Consider using IPython.display.IFrame instead\n",
      "  warnings.warn(\"Consider using IPython.display.IFrame instead\")\n"
     ]
    },
    {
     "name": "stdout",
     "output_type": "stream",
     "text": [
      "( 0 - 1 ) and ( 6 - 7 ) Crossed intersection; inLoop= True\n",
      "( 6 - 7 ) and ( 0 - 1 ) Crossed intersection; inLoop= False\n",
      "( 15 - 16 ) and ( 20 - 21 ) Crossed intersection; inLoop= True\n",
      "( 20 - 21 ) and ( 15 - 16 ) Crossed intersection; inLoop= False\n",
      "2899.0037220915874\n",
      "cm_logs\\20220624_213923.txt\n"
     ]
    },
    {
     "name": "stderr",
     "output_type": "stream",
     "text": [
      "C:\\Users\\Hauke\\anaconda3\\lib\\site-packages\\IPython\\core\\display.py:724: UserWarning: Consider using IPython.display.IFrame instead\n",
      "  warnings.warn(\"Consider using IPython.display.IFrame instead\")\n"
     ]
    },
    {
     "name": "stdout",
     "output_type": "stream",
     "text": [
      "( 13 - 14 ) and ( 16 - 17 ) Crossed intersection; inLoop= True\n",
      "( 16 - 17 ) and ( 13 - 14 ) Crossed intersection; inLoop= False\n",
      "1622.873874011955\n",
      "cm_logs\\20220624_214016.txt\n"
     ]
    },
    {
     "name": "stderr",
     "output_type": "stream",
     "text": [
      "C:\\Users\\Hauke\\anaconda3\\lib\\site-packages\\IPython\\core\\display.py:724: UserWarning: Consider using IPython.display.IFrame instead\n",
      "  warnings.warn(\"Consider using IPython.display.IFrame instead\")\n"
     ]
    },
    {
     "name": "stdout",
     "output_type": "stream",
     "text": [
      "1527.1411902956636\n",
      "cm_logs\\20220624_214108.txt\n"
     ]
    },
    {
     "name": "stderr",
     "output_type": "stream",
     "text": [
      "C:\\Users\\Hauke\\anaconda3\\lib\\site-packages\\IPython\\core\\display.py:724: UserWarning: Consider using IPython.display.IFrame instead\n",
      "  warnings.warn(\"Consider using IPython.display.IFrame instead\")\n"
     ]
    },
    {
     "name": "stdout",
     "output_type": "stream",
     "text": [
      "( 9 - 10 ) and ( 20 - 21 ) Crossed intersection; inLoop= True\n",
      "( 20 - 21 ) and ( 9 - 10 ) Crossed intersection; inLoop= False\n",
      "1484.5564392370468\n",
      "cm_logs\\20220624_214200.txt\n"
     ]
    },
    {
     "name": "stderr",
     "output_type": "stream",
     "text": [
      "C:\\Users\\Hauke\\anaconda3\\lib\\site-packages\\IPython\\core\\display.py:724: UserWarning: Consider using IPython.display.IFrame instead\n",
      "  warnings.warn(\"Consider using IPython.display.IFrame instead\")\n"
     ]
    },
    {
     "name": "stdout",
     "output_type": "stream",
     "text": [
      "1604.915221050807\n",
      "cm_logs\\20220624_214253.txt\n"
     ]
    },
    {
     "name": "stderr",
     "output_type": "stream",
     "text": [
      "C:\\Users\\Hauke\\anaconda3\\lib\\site-packages\\IPython\\core\\display.py:724: UserWarning: Consider using IPython.display.IFrame instead\n",
      "  warnings.warn(\"Consider using IPython.display.IFrame instead\")\n"
     ]
    },
    {
     "name": "stdout",
     "output_type": "stream",
     "text": [
      "1572.835765828408\n",
      "cm_logs\\20220624_214345.txt\n"
     ]
    },
    {
     "name": "stderr",
     "output_type": "stream",
     "text": [
      "C:\\Users\\Hauke\\anaconda3\\lib\\site-packages\\IPython\\core\\display.py:724: UserWarning: Consider using IPython.display.IFrame instead\n",
      "  warnings.warn(\"Consider using IPython.display.IFrame instead\")\n"
     ]
    },
    {
     "name": "stdout",
     "output_type": "stream",
     "text": [
      "1391.7918533136983\n",
      "cm_logs\\20220624_214437.txt\n"
     ]
    },
    {
     "name": "stderr",
     "output_type": "stream",
     "text": [
      "C:\\Users\\Hauke\\anaconda3\\lib\\site-packages\\IPython\\core\\display.py:724: UserWarning: Consider using IPython.display.IFrame instead\n",
      "  warnings.warn(\"Consider using IPython.display.IFrame instead\")\n"
     ]
    },
    {
     "name": "stdout",
     "output_type": "stream",
     "text": [
      "1359.7375358323525\n",
      "cm_logs\\20220624_214529.txt\n"
     ]
    },
    {
     "name": "stderr",
     "output_type": "stream",
     "text": [
      "C:\\Users\\Hauke\\anaconda3\\lib\\site-packages\\IPython\\core\\display.py:724: UserWarning: Consider using IPython.display.IFrame instead\n",
      "  warnings.warn(\"Consider using IPython.display.IFrame instead\")\n"
     ]
    },
    {
     "name": "stdout",
     "output_type": "stream",
     "text": [
      "1571.70280582201\n",
      "cm_logs\\20220624_214622.txt\n"
     ]
    },
    {
     "name": "stderr",
     "output_type": "stream",
     "text": [
      "C:\\Users\\Hauke\\anaconda3\\lib\\site-packages\\IPython\\core\\display.py:724: UserWarning: Consider using IPython.display.IFrame instead\n",
      "  warnings.warn(\"Consider using IPython.display.IFrame instead\")\n"
     ]
    },
    {
     "name": "stdout",
     "output_type": "stream",
     "text": [
      "2131.0587333795875\n",
      "cm_logs\\20220624_214714.txt\n"
     ]
    },
    {
     "name": "stderr",
     "output_type": "stream",
     "text": [
      "C:\\Users\\Hauke\\anaconda3\\lib\\site-packages\\IPython\\core\\display.py:724: UserWarning: Consider using IPython.display.IFrame instead\n",
      "  warnings.warn(\"Consider using IPython.display.IFrame instead\")\n"
     ]
    },
    {
     "name": "stdout",
     "output_type": "stream",
     "text": [
      "( 3 - 4 ) and ( 15 - 16 ) Crossed intersection; inLoop= True\n",
      "( 3 - 4 ) and ( 24 - 25 ) Crossed intersection; inLoop= False\n",
      "( 12 - 13 ) and ( 24 - 25 ) Crossed intersection; inLoop= True\n",
      "( 15 - 16 ) and ( 3 - 4 ) Crossed intersection; inLoop= False\n",
      "( 32 - 33 ) and ( 48 - 49 ) Crossed intersection; inLoop= True\n",
      "( 46 - 47 ) and ( 37 - 38 ) Crossed intersection; inLoop= False\n",
      "( 46 - 47 ) and ( 39 - 40 ) Crossed intersection; inLoop= True\n",
      "( 48 - 49 ) and ( 32 - 33 ) Crossed intersection; inLoop= False\n",
      "2923.94554441551\n",
      "cm_logs\\20220624_214806.txt\n"
     ]
    },
    {
     "name": "stderr",
     "output_type": "stream",
     "text": [
      "C:\\Users\\Hauke\\anaconda3\\lib\\site-packages\\IPython\\core\\display.py:724: UserWarning: Consider using IPython.display.IFrame instead\n",
      "  warnings.warn(\"Consider using IPython.display.IFrame instead\")\n"
     ]
    },
    {
     "name": "stdout",
     "output_type": "stream",
     "text": [
      "( 12 - 13 ) and ( 40 - 41 ) Crossed intersection; inLoop= True\n",
      "( 32 - 33 ) and ( 29 - 30 ) Crossed intersection; inLoop= False\n",
      "3605.3951680748996\n",
      "cm_logs\\20220624_214900.txt\n"
     ]
    },
    {
     "name": "stderr",
     "output_type": "stream",
     "text": [
      "C:\\Users\\Hauke\\anaconda3\\lib\\site-packages\\IPython\\core\\display.py:724: UserWarning: Consider using IPython.display.IFrame instead\n",
      "  warnings.warn(\"Consider using IPython.display.IFrame instead\")\n"
     ]
    },
    {
     "name": "stdout",
     "output_type": "stream",
     "text": [
      "3021.1224237432257\n",
      "cm_logs\\20220624_214953.txt\n"
     ]
    },
    {
     "name": "stderr",
     "output_type": "stream",
     "text": [
      "C:\\Users\\Hauke\\anaconda3\\lib\\site-packages\\IPython\\core\\display.py:724: UserWarning: Consider using IPython.display.IFrame instead\n",
      "  warnings.warn(\"Consider using IPython.display.IFrame instead\")\n"
     ]
    },
    {
     "name": "stdout",
     "output_type": "stream",
     "text": [
      "( 1 - 2 ) and ( 8 - 9 ) Crossed intersection; inLoop= True\n",
      "( 8 - 9 ) and ( 1 - 2 ) Crossed intersection; inLoop= False\n",
      "( 31 - 32 ) and ( 36 - 37 ) Crossed intersection; inLoop= True\n",
      "( 36 - 37 ) and ( 31 - 32 ) Crossed intersection; inLoop= False\n",
      "( 36 - 37 ) and ( 33 - 34 ) Crossed intersection; inLoop= True\n",
      "( 36 - 37 ) and ( 34 - 35 ) Crossed intersection; inLoop= False\n",
      "2192.612736650242\n",
      "cm_logs\\20220624_215045.txt\n"
     ]
    },
    {
     "name": "stderr",
     "output_type": "stream",
     "text": [
      "C:\\Users\\Hauke\\anaconda3\\lib\\site-packages\\IPython\\core\\display.py:724: UserWarning: Consider using IPython.display.IFrame instead\n",
      "  warnings.warn(\"Consider using IPython.display.IFrame instead\")\n"
     ]
    },
    {
     "name": "stdout",
     "output_type": "stream",
     "text": [
      "5364.752407896133\n",
      "cm_logs\\20220624_215137.txt\n"
     ]
    },
    {
     "name": "stderr",
     "output_type": "stream",
     "text": [
      "C:\\Users\\Hauke\\anaconda3\\lib\\site-packages\\IPython\\core\\display.py:724: UserWarning: Consider using IPython.display.IFrame instead\n",
      "  warnings.warn(\"Consider using IPython.display.IFrame instead\")\n"
     ]
    },
    {
     "name": "stdout",
     "output_type": "stream",
     "text": [
      "2324.201988318258\n",
      "cm_logs\\20220624_215229.txt\n"
     ]
    },
    {
     "name": "stderr",
     "output_type": "stream",
     "text": [
      "C:\\Users\\Hauke\\anaconda3\\lib\\site-packages\\IPython\\core\\display.py:724: UserWarning: Consider using IPython.display.IFrame instead\n",
      "  warnings.warn(\"Consider using IPython.display.IFrame instead\")\n"
     ]
    },
    {
     "name": "stdout",
     "output_type": "stream",
     "text": [
      "( 8 - 9 ) and ( 10 - 11 ) Crossed intersection; inLoop= True\n",
      "( 10 - 11 ) and ( 8 - 9 ) Crossed intersection; inLoop= False\n",
      "( 24 - 25 ) and ( 26 - 27 ) Crossed intersection; inLoop= True\n",
      "( 26 - 27 ) and ( 24 - 25 ) Crossed intersection; inLoop= False\n",
      "2586.143007122248\n",
      "cm_logs\\20220624_215322.txt\n"
     ]
    },
    {
     "name": "stderr",
     "output_type": "stream",
     "text": [
      "C:\\Users\\Hauke\\anaconda3\\lib\\site-packages\\IPython\\core\\display.py:724: UserWarning: Consider using IPython.display.IFrame instead\n",
      "  warnings.warn(\"Consider using IPython.display.IFrame instead\")\n"
     ]
    },
    {
     "name": "stdout",
     "output_type": "stream",
     "text": [
      "( 24 - 25 ) and ( 27 - 28 ) Crossed intersection; inLoop= True\n",
      "( 27 - 28 ) and ( 24 - 25 ) Crossed intersection; inLoop= False\n",
      "1725.3626245178177\n",
      "cm_logs\\20220624_215414.txt\n"
     ]
    },
    {
     "name": "stderr",
     "output_type": "stream",
     "text": [
      "C:\\Users\\Hauke\\anaconda3\\lib\\site-packages\\IPython\\core\\display.py:724: UserWarning: Consider using IPython.display.IFrame instead\n",
      "  warnings.warn(\"Consider using IPython.display.IFrame instead\")\n"
     ]
    },
    {
     "name": "stdout",
     "output_type": "stream",
     "text": [
      "1560.5979711329219\n",
      "cm_logs\\20220624_215506.txt\n"
     ]
    },
    {
     "name": "stderr",
     "output_type": "stream",
     "text": [
      "C:\\Users\\Hauke\\anaconda3\\lib\\site-packages\\IPython\\core\\display.py:724: UserWarning: Consider using IPython.display.IFrame instead\n",
      "  warnings.warn(\"Consider using IPython.display.IFrame instead\")\n"
     ]
    },
    {
     "name": "stdout",
     "output_type": "stream",
     "text": [
      "2003.3070745695716\n",
      "cm_logs\\20220624_215559.txt\n"
     ]
    },
    {
     "name": "stderr",
     "output_type": "stream",
     "text": [
      "C:\\Users\\Hauke\\anaconda3\\lib\\site-packages\\IPython\\core\\display.py:724: UserWarning: Consider using IPython.display.IFrame instead\n",
      "  warnings.warn(\"Consider using IPython.display.IFrame instead\")\n"
     ]
    },
    {
     "name": "stdout",
     "output_type": "stream",
     "text": [
      "1975.8265844640555\n",
      "cm_logs\\20220624_215651.txt\n"
     ]
    },
    {
     "name": "stderr",
     "output_type": "stream",
     "text": [
      "C:\\Users\\Hauke\\anaconda3\\lib\\site-packages\\IPython\\core\\display.py:724: UserWarning: Consider using IPython.display.IFrame instead\n",
      "  warnings.warn(\"Consider using IPython.display.IFrame instead\")\n"
     ]
    },
    {
     "name": "stdout",
     "output_type": "stream",
     "text": [
      "1290.987668155567\n",
      "cm_logs\\20220624_215743.txt\n"
     ]
    },
    {
     "name": "stderr",
     "output_type": "stream",
     "text": [
      "C:\\Users\\Hauke\\anaconda3\\lib\\site-packages\\IPython\\core\\display.py:724: UserWarning: Consider using IPython.display.IFrame instead\n",
      "  warnings.warn(\"Consider using IPython.display.IFrame instead\")\n"
     ]
    },
    {
     "name": "stdout",
     "output_type": "stream",
     "text": [
      "( 0 - 1 ) and ( 2 - 3 ) Crossed intersection; inLoop= True\n",
      "( 2 - 3 ) and ( 0 - 1 ) Crossed intersection; inLoop= False\n",
      "1172.0974644186012\n",
      "cm_logs\\20220624_215835.txt\n"
     ]
    },
    {
     "name": "stderr",
     "output_type": "stream",
     "text": [
      "C:\\Users\\Hauke\\anaconda3\\lib\\site-packages\\IPython\\core\\display.py:724: UserWarning: Consider using IPython.display.IFrame instead\n",
      "  warnings.warn(\"Consider using IPython.display.IFrame instead\")\n"
     ]
    },
    {
     "name": "stdout",
     "output_type": "stream",
     "text": [
      "1310.1862591499648\n",
      "cm_logs\\20220624_215927.txt\n"
     ]
    },
    {
     "name": "stderr",
     "output_type": "stream",
     "text": [
      "C:\\Users\\Hauke\\anaconda3\\lib\\site-packages\\IPython\\core\\display.py:724: UserWarning: Consider using IPython.display.IFrame instead\n",
      "  warnings.warn(\"Consider using IPython.display.IFrame instead\")\n"
     ]
    },
    {
     "name": "stdout",
     "output_type": "stream",
     "text": [
      "834.1961390046146\n",
      "cm_logs\\20220624_220020.txt\n"
     ]
    },
    {
     "name": "stderr",
     "output_type": "stream",
     "text": [
      "C:\\Users\\Hauke\\anaconda3\\lib\\site-packages\\IPython\\core\\display.py:724: UserWarning: Consider using IPython.display.IFrame instead\n",
      "  warnings.warn(\"Consider using IPython.display.IFrame instead\")\n"
     ]
    },
    {
     "name": "stdout",
     "output_type": "stream",
     "text": [
      "( 11 - 12 ) and ( 18 - 19 ) Crossed intersection; inLoop= True\n",
      "( 17 - 18 ) and ( 15 - 16 ) Crossed intersection; inLoop= False\n",
      "2404.35177451484\n",
      "cm_logs\\20220624_220112.txt\n"
     ]
    },
    {
     "name": "stderr",
     "output_type": "stream",
     "text": [
      "C:\\Users\\Hauke\\anaconda3\\lib\\site-packages\\IPython\\core\\display.py:724: UserWarning: Consider using IPython.display.IFrame instead\n",
      "  warnings.warn(\"Consider using IPython.display.IFrame instead\")\n"
     ]
    },
    {
     "name": "stdout",
     "output_type": "stream",
     "text": [
      "( 5 - 6 ) and ( 11 - 12 ) Crossed intersection; inLoop= True\n",
      "( 5 - 6 ) and ( 12 - 13 ) Crossed intersection; inLoop= False\n",
      "( 26 - 27 ) and ( 32 - 33 ) Crossed intersection; inLoop= True\n",
      "( 32 - 33 ) and ( 26 - 27 ) Crossed intersection; inLoop= False\n",
      "2541.195414344095\n",
      "cm_logs\\20220624_220204.txt\n"
     ]
    },
    {
     "name": "stderr",
     "output_type": "stream",
     "text": [
      "C:\\Users\\Hauke\\anaconda3\\lib\\site-packages\\IPython\\core\\display.py:724: UserWarning: Consider using IPython.display.IFrame instead\n",
      "  warnings.warn(\"Consider using IPython.display.IFrame instead\")\n"
     ]
    },
    {
     "name": "stdout",
     "output_type": "stream",
     "text": [
      "( 8 - 9 ) and ( 12 - 13 ) Crossed intersection; inLoop= True\n",
      "( 8 - 9 ) and ( 13 - 14 ) Crossed intersection; inLoop= False\n",
      "( 9 - 10 ) and ( 12 - 13 ) Crossed intersection; inLoop= True\n",
      "( 12 - 13 ) and ( 8 - 9 ) Crossed intersection; inLoop= False\n",
      "( 12 - 13 ) and ( 9 - 10 ) Crossed intersection; inLoop= True\n",
      "( 12 - 13 ) and ( 10 - 11 ) Crossed intersection; inLoop= False\n",
      "( 27 - 28 ) and ( 32 - 33 ) Crossed intersection; inLoop= True\n",
      "( 32 - 33 ) and ( 27 - 28 ) Crossed intersection; inLoop= False\n",
      "2295.4400706392166\n",
      "cm_logs\\20220624_220256.txt\n"
     ]
    },
    {
     "name": "stderr",
     "output_type": "stream",
     "text": [
      "C:\\Users\\Hauke\\anaconda3\\lib\\site-packages\\IPython\\core\\display.py:724: UserWarning: Consider using IPython.display.IFrame instead\n",
      "  warnings.warn(\"Consider using IPython.display.IFrame instead\")\n"
     ]
    },
    {
     "name": "stdout",
     "output_type": "stream",
     "text": [
      "( 9 - 10 ) and ( 16 - 17 ) Crossed intersection; inLoop= True\n",
      "( 9 - 10 ) and ( 17 - 18 ) Crossed intersection; inLoop= False\n",
      "( 30 - 31 ) and ( 33 - 34 ) Crossed intersection; inLoop= True\n",
      "( 33 - 34 ) and ( 30 - 31 ) Crossed intersection; inLoop= False\n",
      "2788.8378520041324\n",
      "cm_logs\\20220624_220349.txt\n"
     ]
    },
    {
     "name": "stderr",
     "output_type": "stream",
     "text": [
      "C:\\Users\\Hauke\\anaconda3\\lib\\site-packages\\IPython\\core\\display.py:724: UserWarning: Consider using IPython.display.IFrame instead\n",
      "  warnings.warn(\"Consider using IPython.display.IFrame instead\")\n"
     ]
    },
    {
     "name": "stdout",
     "output_type": "stream",
     "text": [
      "247.78297835345543\n",
      "cm_logs\\20220624_220441.txt\n"
     ]
    },
    {
     "name": "stderr",
     "output_type": "stream",
     "text": [
      "C:\\Users\\Hauke\\anaconda3\\lib\\site-packages\\IPython\\core\\display.py:724: UserWarning: Consider using IPython.display.IFrame instead\n",
      "  warnings.warn(\"Consider using IPython.display.IFrame instead\")\n"
     ]
    },
    {
     "name": "stdout",
     "output_type": "stream",
     "text": [
      "18.54947418917896\n",
      "cm_logs\\20220624_220533.txt\n"
     ]
    },
    {
     "name": "stderr",
     "output_type": "stream",
     "text": [
      "C:\\Users\\Hauke\\anaconda3\\lib\\site-packages\\IPython\\core\\display.py:724: UserWarning: Consider using IPython.display.IFrame instead\n",
      "  warnings.warn(\"Consider using IPython.display.IFrame instead\")\n"
     ]
    },
    {
     "name": "stdout",
     "output_type": "stream",
     "text": [
      "2910.1848619464936\n",
      "cm_logs\\20220624_220625.txt\n"
     ]
    },
    {
     "name": "stderr",
     "output_type": "stream",
     "text": [
      "C:\\Users\\Hauke\\anaconda3\\lib\\site-packages\\IPython\\core\\display.py:724: UserWarning: Consider using IPython.display.IFrame instead\n",
      "  warnings.warn(\"Consider using IPython.display.IFrame instead\")\n"
     ]
    },
    {
     "name": "stdout",
     "output_type": "stream",
     "text": [
      "1685.1903851705836\n",
      "cm_logs\\20220624_220717.txt\n"
     ]
    },
    {
     "name": "stderr",
     "output_type": "stream",
     "text": [
      "C:\\Users\\Hauke\\anaconda3\\lib\\site-packages\\IPython\\core\\display.py:724: UserWarning: Consider using IPython.display.IFrame instead\n",
      "  warnings.warn(\"Consider using IPython.display.IFrame instead\")\n"
     ]
    },
    {
     "name": "stdout",
     "output_type": "stream",
     "text": [
      "1603.3434243182967\n",
      "cm_logs\\20220624_220810.txt\n"
     ]
    },
    {
     "name": "stderr",
     "output_type": "stream",
     "text": [
      "C:\\Users\\Hauke\\anaconda3\\lib\\site-packages\\IPython\\core\\display.py:724: UserWarning: Consider using IPython.display.IFrame instead\n",
      "  warnings.warn(\"Consider using IPython.display.IFrame instead\")\n"
     ]
    },
    {
     "name": "stdout",
     "output_type": "stream",
     "text": [
      "1892.8764050639677\n",
      "cm_logs\\20220624_220902.txt\n"
     ]
    },
    {
     "name": "stderr",
     "output_type": "stream",
     "text": [
      "C:\\Users\\Hauke\\anaconda3\\lib\\site-packages\\IPython\\core\\display.py:724: UserWarning: Consider using IPython.display.IFrame instead\n",
      "  warnings.warn(\"Consider using IPython.display.IFrame instead\")\n"
     ]
    },
    {
     "name": "stdout",
     "output_type": "stream",
     "text": [
      "1232.927607996045\n",
      "cm_logs\\20220624_220954.txt\n"
     ]
    },
    {
     "name": "stderr",
     "output_type": "stream",
     "text": [
      "C:\\Users\\Hauke\\anaconda3\\lib\\site-packages\\IPython\\core\\display.py:724: UserWarning: Consider using IPython.display.IFrame instead\n",
      "  warnings.warn(\"Consider using IPython.display.IFrame instead\")\n"
     ]
    },
    {
     "name": "stdout",
     "output_type": "stream",
     "text": [
      "( 0 - 1 ) and ( 9 - 10 ) Crossed intersection; inLoop= True\n",
      "( 0 - 1 ) and ( 11 - 12 ) Crossed intersection; inLoop= False\n",
      "( 4 - 5 ) and ( 11 - 12 ) Crossed intersection; inLoop= True\n",
      "( 9 - 10 ) and ( 0 - 1 ) Crossed intersection; inLoop= False\n",
      "1784.8776876907318\n",
      "cm_logs\\20220624_221046.txt\n"
     ]
    },
    {
     "name": "stderr",
     "output_type": "stream",
     "text": [
      "C:\\Users\\Hauke\\anaconda3\\lib\\site-packages\\IPython\\core\\display.py:724: UserWarning: Consider using IPython.display.IFrame instead\n",
      "  warnings.warn(\"Consider using IPython.display.IFrame instead\")\n"
     ]
    },
    {
     "name": "stdout",
     "output_type": "stream",
     "text": [
      "1315.845942058998\n",
      "cm_logs\\20220624_221138.txt\n"
     ]
    },
    {
     "name": "stderr",
     "output_type": "stream",
     "text": [
      "C:\\Users\\Hauke\\anaconda3\\lib\\site-packages\\IPython\\core\\display.py:724: UserWarning: Consider using IPython.display.IFrame instead\n",
      "  warnings.warn(\"Consider using IPython.display.IFrame instead\")\n"
     ]
    },
    {
     "name": "stdout",
     "output_type": "stream",
     "text": [
      "1525.7327168692414\n",
      "cm_logs\\20220624_221231.txt\n"
     ]
    },
    {
     "name": "stderr",
     "output_type": "stream",
     "text": [
      "C:\\Users\\Hauke\\anaconda3\\lib\\site-packages\\IPython\\core\\display.py:724: UserWarning: Consider using IPython.display.IFrame instead\n",
      "  warnings.warn(\"Consider using IPython.display.IFrame instead\")\n"
     ]
    },
    {
     "name": "stdout",
     "output_type": "stream",
     "text": [
      "965.1193739155823\n",
      "cm_logs\\20220624_221323.txt\n"
     ]
    },
    {
     "name": "stderr",
     "output_type": "stream",
     "text": [
      "C:\\Users\\Hauke\\anaconda3\\lib\\site-packages\\IPython\\core\\display.py:724: UserWarning: Consider using IPython.display.IFrame instead\n",
      "  warnings.warn(\"Consider using IPython.display.IFrame instead\")\n"
     ]
    },
    {
     "name": "stdout",
     "output_type": "stream",
     "text": [
      "1843.430437893445\n",
      "cm_logs\\20220624_221415.txt\n"
     ]
    },
    {
     "name": "stderr",
     "output_type": "stream",
     "text": [
      "C:\\Users\\Hauke\\anaconda3\\lib\\site-packages\\IPython\\core\\display.py:724: UserWarning: Consider using IPython.display.IFrame instead\n",
      "  warnings.warn(\"Consider using IPython.display.IFrame instead\")\n"
     ]
    },
    {
     "name": "stdout",
     "output_type": "stream",
     "text": [
      "1217.947715705063\n",
      "cm_logs\\20220624_221508.txt\n"
     ]
    },
    {
     "name": "stderr",
     "output_type": "stream",
     "text": [
      "C:\\Users\\Hauke\\anaconda3\\lib\\site-packages\\IPython\\core\\display.py:724: UserWarning: Consider using IPython.display.IFrame instead\n",
      "  warnings.warn(\"Consider using IPython.display.IFrame instead\")\n"
     ]
    },
    {
     "name": "stdout",
     "output_type": "stream",
     "text": [
      "2216.1411269433506\n",
      "cm_logs\\20220624_221600.txt\n"
     ]
    },
    {
     "name": "stderr",
     "output_type": "stream",
     "text": [
      "C:\\Users\\Hauke\\anaconda3\\lib\\site-packages\\IPython\\core\\display.py:724: UserWarning: Consider using IPython.display.IFrame instead\n",
      "  warnings.warn(\"Consider using IPython.display.IFrame instead\")\n"
     ]
    },
    {
     "name": "stdout",
     "output_type": "stream",
     "text": [
      "1276.8475781863774\n",
      "cm_logs\\20220624_221652.txt\n"
     ]
    },
    {
     "name": "stderr",
     "output_type": "stream",
     "text": [
      "C:\\Users\\Hauke\\anaconda3\\lib\\site-packages\\IPython\\core\\display.py:724: UserWarning: Consider using IPython.display.IFrame instead\n",
      "  warnings.warn(\"Consider using IPython.display.IFrame instead\")\n"
     ]
    },
    {
     "name": "stdout",
     "output_type": "stream",
     "text": [
      "1469.303658871859\n",
      "cm_logs\\20220624_221744.txt\n"
     ]
    },
    {
     "name": "stderr",
     "output_type": "stream",
     "text": [
      "C:\\Users\\Hauke\\anaconda3\\lib\\site-packages\\IPython\\core\\display.py:724: UserWarning: Consider using IPython.display.IFrame instead\n",
      "  warnings.warn(\"Consider using IPython.display.IFrame instead\")\n"
     ]
    },
    {
     "name": "stdout",
     "output_type": "stream",
     "text": [
      "1483.0492471776965\n",
      "cm_logs\\20220624_221837.txt\n"
     ]
    },
    {
     "name": "stderr",
     "output_type": "stream",
     "text": [
      "C:\\Users\\Hauke\\anaconda3\\lib\\site-packages\\IPython\\core\\display.py:724: UserWarning: Consider using IPython.display.IFrame instead\n",
      "  warnings.warn(\"Consider using IPython.display.IFrame instead\")\n"
     ]
    },
    {
     "name": "stdout",
     "output_type": "stream",
     "text": [
      "1646.5948781454672\n",
      "cm_logs\\20220624_221929.txt\n"
     ]
    },
    {
     "name": "stderr",
     "output_type": "stream",
     "text": [
      "C:\\Users\\Hauke\\anaconda3\\lib\\site-packages\\IPython\\core\\display.py:724: UserWarning: Consider using IPython.display.IFrame instead\n",
      "  warnings.warn(\"Consider using IPython.display.IFrame instead\")\n"
     ]
    },
    {
     "name": "stdout",
     "output_type": "stream",
     "text": [
      "1845.2921897481287\n",
      "cm_logs\\20220624_222021.txt\n"
     ]
    },
    {
     "name": "stderr",
     "output_type": "stream",
     "text": [
      "C:\\Users\\Hauke\\anaconda3\\lib\\site-packages\\IPython\\core\\display.py:724: UserWarning: Consider using IPython.display.IFrame instead\n",
      "  warnings.warn(\"Consider using IPython.display.IFrame instead\")\n"
     ]
    },
    {
     "name": "stdout",
     "output_type": "stream",
     "text": [
      "2257.3553692496885\n",
      "cm_logs\\20220624_222113.txt\n"
     ]
    },
    {
     "name": "stderr",
     "output_type": "stream",
     "text": [
      "C:\\Users\\Hauke\\anaconda3\\lib\\site-packages\\IPython\\core\\display.py:724: UserWarning: Consider using IPython.display.IFrame instead\n",
      "  warnings.warn(\"Consider using IPython.display.IFrame instead\")\n"
     ]
    },
    {
     "name": "stdout",
     "output_type": "stream",
     "text": [
      "1791.3497237454849\n",
      "cm_logs\\20220624_222205.txt\n"
     ]
    },
    {
     "name": "stderr",
     "output_type": "stream",
     "text": [
      "C:\\Users\\Hauke\\anaconda3\\lib\\site-packages\\IPython\\core\\display.py:724: UserWarning: Consider using IPython.display.IFrame instead\n",
      "  warnings.warn(\"Consider using IPython.display.IFrame instead\")\n"
     ]
    },
    {
     "name": "stdout",
     "output_type": "stream",
     "text": [
      "1432.1194244962687\n",
      "cm_logs\\20220624_222257.txt\n"
     ]
    },
    {
     "name": "stderr",
     "output_type": "stream",
     "text": [
      "C:\\Users\\Hauke\\anaconda3\\lib\\site-packages\\IPython\\core\\display.py:724: UserWarning: Consider using IPython.display.IFrame instead\n",
      "  warnings.warn(\"Consider using IPython.display.IFrame instead\")\n"
     ]
    },
    {
     "name": "stdout",
     "output_type": "stream",
     "text": [
      "1519.2914826079882\n",
      "cm_logs\\20220624_222349.txt\n"
     ]
    },
    {
     "name": "stderr",
     "output_type": "stream",
     "text": [
      "C:\\Users\\Hauke\\anaconda3\\lib\\site-packages\\IPython\\core\\display.py:724: UserWarning: Consider using IPython.display.IFrame instead\n",
      "  warnings.warn(\"Consider using IPython.display.IFrame instead\")\n"
     ]
    },
    {
     "name": "stdout",
     "output_type": "stream",
     "text": [
      "1023.4151821536192\n",
      "cm_logs\\20220624_222442.txt\n"
     ]
    },
    {
     "name": "stderr",
     "output_type": "stream",
     "text": [
      "C:\\Users\\Hauke\\anaconda3\\lib\\site-packages\\IPython\\core\\display.py:724: UserWarning: Consider using IPython.display.IFrame instead\n",
      "  warnings.warn(\"Consider using IPython.display.IFrame instead\")\n"
     ]
    },
    {
     "name": "stdout",
     "output_type": "stream",
     "text": [
      "1156.0764324794382\n",
      "cm_logs\\20220624_222534.txt\n"
     ]
    },
    {
     "name": "stderr",
     "output_type": "stream",
     "text": [
      "C:\\Users\\Hauke\\anaconda3\\lib\\site-packages\\IPython\\core\\display.py:724: UserWarning: Consider using IPython.display.IFrame instead\n",
      "  warnings.warn(\"Consider using IPython.display.IFrame instead\")\n"
     ]
    },
    {
     "name": "stdout",
     "output_type": "stream",
     "text": [
      "1372.2441774048352\n",
      "cm_logs\\20220624_222626.txt\n"
     ]
    },
    {
     "name": "stderr",
     "output_type": "stream",
     "text": [
      "C:\\Users\\Hauke\\anaconda3\\lib\\site-packages\\IPython\\core\\display.py:724: UserWarning: Consider using IPython.display.IFrame instead\n",
      "  warnings.warn(\"Consider using IPython.display.IFrame instead\")\n"
     ]
    },
    {
     "name": "stdout",
     "output_type": "stream",
     "text": [
      "1463.7069327369295\n",
      "cm_logs\\20220624_222718.txt\n"
     ]
    },
    {
     "name": "stderr",
     "output_type": "stream",
     "text": [
      "C:\\Users\\Hauke\\anaconda3\\lib\\site-packages\\IPython\\core\\display.py:724: UserWarning: Consider using IPython.display.IFrame instead\n",
      "  warnings.warn(\"Consider using IPython.display.IFrame instead\")\n"
     ]
    },
    {
     "name": "stdout",
     "output_type": "stream",
     "text": [
      "1496.6565719384662\n",
      "cm_logs\\20220624_222810.txt\n"
     ]
    },
    {
     "name": "stderr",
     "output_type": "stream",
     "text": [
      "C:\\Users\\Hauke\\anaconda3\\lib\\site-packages\\IPython\\core\\display.py:724: UserWarning: Consider using IPython.display.IFrame instead\n",
      "  warnings.warn(\"Consider using IPython.display.IFrame instead\")\n"
     ]
    },
    {
     "name": "stdout",
     "output_type": "stream",
     "text": [
      "1517.1388644370852\n",
      "cm_logs\\20220624_222903.txt\n"
     ]
    },
    {
     "name": "stderr",
     "output_type": "stream",
     "text": [
      "C:\\Users\\Hauke\\anaconda3\\lib\\site-packages\\IPython\\core\\display.py:724: UserWarning: Consider using IPython.display.IFrame instead\n",
      "  warnings.warn(\"Consider using IPython.display.IFrame instead\")\n"
     ]
    },
    {
     "name": "stdout",
     "output_type": "stream",
     "text": [
      "821.6528934521428\n",
      "cm_logs\\20220624_222955.txt\n"
     ]
    },
    {
     "name": "stderr",
     "output_type": "stream",
     "text": [
      "C:\\Users\\Hauke\\anaconda3\\lib\\site-packages\\IPython\\core\\display.py:724: UserWarning: Consider using IPython.display.IFrame instead\n",
      "  warnings.warn(\"Consider using IPython.display.IFrame instead\")\n"
     ]
    },
    {
     "name": "stdout",
     "output_type": "stream",
     "text": [
      "793.1018366965486\n",
      "cm_logs\\20220624_223047.txt\n"
     ]
    },
    {
     "name": "stderr",
     "output_type": "stream",
     "text": [
      "C:\\Users\\Hauke\\anaconda3\\lib\\site-packages\\IPython\\core\\display.py:724: UserWarning: Consider using IPython.display.IFrame instead\n",
      "  warnings.warn(\"Consider using IPython.display.IFrame instead\")\n"
     ]
    },
    {
     "name": "stdout",
     "output_type": "stream",
     "text": [
      "982.4263261319968\n",
      "cm_logs\\20220624_223139.txt\n"
     ]
    },
    {
     "name": "stderr",
     "output_type": "stream",
     "text": [
      "C:\\Users\\Hauke\\anaconda3\\lib\\site-packages\\IPython\\core\\display.py:724: UserWarning: Consider using IPython.display.IFrame instead\n",
      "  warnings.warn(\"Consider using IPython.display.IFrame instead\")\n"
     ]
    },
    {
     "name": "stdout",
     "output_type": "stream",
     "text": [
      "1055.8533760106461\n",
      "cm_logs\\20220624_223231.txt\n"
     ]
    },
    {
     "name": "stderr",
     "output_type": "stream",
     "text": [
      "C:\\Users\\Hauke\\anaconda3\\lib\\site-packages\\IPython\\core\\display.py:724: UserWarning: Consider using IPython.display.IFrame instead\n",
      "  warnings.warn(\"Consider using IPython.display.IFrame instead\")\n"
     ]
    },
    {
     "name": "stdout",
     "output_type": "stream",
     "text": [
      "1046.2622994494195\n",
      "cm_logs\\20220624_223323.txt\n"
     ]
    },
    {
     "name": "stderr",
     "output_type": "stream",
     "text": [
      "C:\\Users\\Hauke\\anaconda3\\lib\\site-packages\\IPython\\core\\display.py:724: UserWarning: Consider using IPython.display.IFrame instead\n",
      "  warnings.warn(\"Consider using IPython.display.IFrame instead\")\n"
     ]
    },
    {
     "name": "stdout",
     "output_type": "stream",
     "text": [
      "940.8818372855073\n",
      "cm_logs\\20220624_223416.txt\n"
     ]
    },
    {
     "name": "stderr",
     "output_type": "stream",
     "text": [
      "C:\\Users\\Hauke\\anaconda3\\lib\\site-packages\\IPython\\core\\display.py:724: UserWarning: Consider using IPython.display.IFrame instead\n",
      "  warnings.warn(\"Consider using IPython.display.IFrame instead\")\n"
     ]
    },
    {
     "name": "stdout",
     "output_type": "stream",
     "text": [
      "1108.2177077180904\n",
      "cm_logs\\20220624_223508.txt\n"
     ]
    },
    {
     "name": "stderr",
     "output_type": "stream",
     "text": [
      "C:\\Users\\Hauke\\anaconda3\\lib\\site-packages\\IPython\\core\\display.py:724: UserWarning: Consider using IPython.display.IFrame instead\n",
      "  warnings.warn(\"Consider using IPython.display.IFrame instead\")\n"
     ]
    },
    {
     "name": "stdout",
     "output_type": "stream",
     "text": [
      "1303.6925278632737\n",
      "cm_logs\\20220624_223600.txt\n"
     ]
    },
    {
     "name": "stderr",
     "output_type": "stream",
     "text": [
      "C:\\Users\\Hauke\\anaconda3\\lib\\site-packages\\IPython\\core\\display.py:724: UserWarning: Consider using IPython.display.IFrame instead\n",
      "  warnings.warn(\"Consider using IPython.display.IFrame instead\")\n"
     ]
    },
    {
     "name": "stdout",
     "output_type": "stream",
     "text": [
      "( 17 - 18 ) and ( 19 - 20 ) Crossed intersection; inLoop= True\n",
      "( 19 - 20 ) and ( 17 - 18 ) Crossed intersection; inLoop= False\n",
      "1503.965020600737\n",
      "cm_logs\\20220624_223652.txt\n"
     ]
    },
    {
     "name": "stderr",
     "output_type": "stream",
     "text": [
      "C:\\Users\\Hauke\\anaconda3\\lib\\site-packages\\IPython\\core\\display.py:724: UserWarning: Consider using IPython.display.IFrame instead\n",
      "  warnings.warn(\"Consider using IPython.display.IFrame instead\")\n"
     ]
    },
    {
     "name": "stdout",
     "output_type": "stream",
     "text": [
      "1186.5143759603238\n",
      "cm_logs\\20220624_223744.txt\n"
     ]
    },
    {
     "name": "stderr",
     "output_type": "stream",
     "text": [
      "C:\\Users\\Hauke\\anaconda3\\lib\\site-packages\\IPython\\core\\display.py:724: UserWarning: Consider using IPython.display.IFrame instead\n",
      "  warnings.warn(\"Consider using IPython.display.IFrame instead\")\n"
     ]
    },
    {
     "name": "stdout",
     "output_type": "stream",
     "text": [
      "1353.5737275226718\n",
      "cm_logs\\20220624_223836.txt\n"
     ]
    },
    {
     "name": "stderr",
     "output_type": "stream",
     "text": [
      "C:\\Users\\Hauke\\anaconda3\\lib\\site-packages\\IPython\\core\\display.py:724: UserWarning: Consider using IPython.display.IFrame instead\n",
      "  warnings.warn(\"Consider using IPython.display.IFrame instead\")\n"
     ]
    },
    {
     "name": "stdout",
     "output_type": "stream",
     "text": [
      "( 12 - 13 ) and ( 21 - 22 ) Crossed intersection; inLoop= True\n",
      "( 21 - 22 ) and ( 12 - 13 ) Crossed intersection; inLoop= False\n",
      "1849.6258526256916\n",
      "cm_logs\\20220624_223929.txt\n"
     ]
    },
    {
     "name": "stderr",
     "output_type": "stream",
     "text": [
      "C:\\Users\\Hauke\\anaconda3\\lib\\site-packages\\IPython\\core\\display.py:724: UserWarning: Consider using IPython.display.IFrame instead\n",
      "  warnings.warn(\"Consider using IPython.display.IFrame instead\")\n"
     ]
    },
    {
     "name": "stdout",
     "output_type": "stream",
     "text": [
      "( 10 - 11 ) and ( 26 - 27 ) Crossed intersection; inLoop= True\n",
      "( 26 - 27 ) and ( 10 - 11 ) Crossed intersection; inLoop= False\n",
      "1988.5805959544537\n",
      "cm_logs\\20220624_224021.txt\n"
     ]
    },
    {
     "name": "stderr",
     "output_type": "stream",
     "text": [
      "C:\\Users\\Hauke\\anaconda3\\lib\\site-packages\\IPython\\core\\display.py:724: UserWarning: Consider using IPython.display.IFrame instead\n",
      "  warnings.warn(\"Consider using IPython.display.IFrame instead\")\n"
     ]
    },
    {
     "name": "stdout",
     "output_type": "stream",
     "text": [
      "( 0 - 1 ) and ( 2 - 3 ) Crossed intersection; inLoop= True\n",
      "( 0 - 1 ) and ( 3 - 4 ) Crossed intersection; inLoop= False\n",
      "( 0 - 1 ) and ( 4 - 5 ) Crossed intersection; inLoop= True\n",
      "( 2 - 3 ) and ( 0 - 1 ) Crossed intersection; inLoop= False\n",
      "2500.533931087053\n",
      "cm_logs\\20220624_224113.txt\n"
     ]
    },
    {
     "name": "stderr",
     "output_type": "stream",
     "text": [
      "C:\\Users\\Hauke\\anaconda3\\lib\\site-packages\\IPython\\core\\display.py:724: UserWarning: Consider using IPython.display.IFrame instead\n",
      "  warnings.warn(\"Consider using IPython.display.IFrame instead\")\n"
     ]
    },
    {
     "name": "stdout",
     "output_type": "stream",
     "text": [
      "( 1 - 2 ) and ( 3 - 4 ) Crossed intersection; inLoop= True\n",
      "( 1 - 2 ) and ( 4 - 5 ) Crossed intersection; inLoop= False\n",
      "( 24 - 25 ) and ( 31 - 32 ) Crossed intersection; inLoop= True\n",
      "( 30 - 31 ) and ( 27 - 28 ) Crossed intersection; inLoop= False\n",
      "1857.9351782905392\n",
      "cm_logs\\20220624_224206.txt\n"
     ]
    },
    {
     "name": "stderr",
     "output_type": "stream",
     "text": [
      "C:\\Users\\Hauke\\anaconda3\\lib\\site-packages\\IPython\\core\\display.py:724: UserWarning: Consider using IPython.display.IFrame instead\n",
      "  warnings.warn(\"Consider using IPython.display.IFrame instead\")\n"
     ]
    },
    {
     "name": "stdout",
     "output_type": "stream",
     "text": [
      "2142.88853808895\n",
      "cm_logs\\20220624_224258.txt\n"
     ]
    },
    {
     "name": "stderr",
     "output_type": "stream",
     "text": [
      "C:\\Users\\Hauke\\anaconda3\\lib\\site-packages\\IPython\\core\\display.py:724: UserWarning: Consider using IPython.display.IFrame instead\n",
      "  warnings.warn(\"Consider using IPython.display.IFrame instead\")\n"
     ]
    },
    {
     "name": "stdout",
     "output_type": "stream",
     "text": [
      "1056.3967753041507\n",
      "cm_logs\\20220624_224350.txt\n"
     ]
    },
    {
     "name": "stderr",
     "output_type": "stream",
     "text": [
      "C:\\Users\\Hauke\\anaconda3\\lib\\site-packages\\IPython\\core\\display.py:724: UserWarning: Consider using IPython.display.IFrame instead\n",
      "  warnings.warn(\"Consider using IPython.display.IFrame instead\")\n"
     ]
    },
    {
     "name": "stdout",
     "output_type": "stream",
     "text": [
      "1285.4391018183258\n",
      "cm_logs\\20220624_224442.txt\n"
     ]
    },
    {
     "name": "stderr",
     "output_type": "stream",
     "text": [
      "C:\\Users\\Hauke\\anaconda3\\lib\\site-packages\\IPython\\core\\display.py:724: UserWarning: Consider using IPython.display.IFrame instead\n",
      "  warnings.warn(\"Consider using IPython.display.IFrame instead\")\n"
     ]
    },
    {
     "name": "stdout",
     "output_type": "stream",
     "text": [
      "( 12 - 13 ) and ( 15 - 16 ) Crossed intersection; inLoop= True\n",
      "( 15 - 16 ) and ( 12 - 13 ) Crossed intersection; inLoop= False\n",
      "657.7125258581547\n",
      "cm_logs\\20220624_224534.txt\n"
     ]
    },
    {
     "name": "stderr",
     "output_type": "stream",
     "text": [
      "C:\\Users\\Hauke\\anaconda3\\lib\\site-packages\\IPython\\core\\display.py:724: UserWarning: Consider using IPython.display.IFrame instead\n",
      "  warnings.warn(\"Consider using IPython.display.IFrame instead\")\n"
     ]
    },
    {
     "name": "stdout",
     "output_type": "stream",
     "text": [
      "940.6428081111718\n",
      "cm_logs\\20220624_224626.txt\n"
     ]
    },
    {
     "name": "stderr",
     "output_type": "stream",
     "text": [
      "C:\\Users\\Hauke\\anaconda3\\lib\\site-packages\\IPython\\core\\display.py:724: UserWarning: Consider using IPython.display.IFrame instead\n",
      "  warnings.warn(\"Consider using IPython.display.IFrame instead\")\n"
     ]
    },
    {
     "name": "stdout",
     "output_type": "stream",
     "text": [
      "( 17 - 18 ) and ( 19 - 20 ) Crossed intersection; inLoop= True\n",
      "( 19 - 20 ) and ( 17 - 18 ) Crossed intersection; inLoop= False\n",
      "1221.1683640223443\n",
      "cm_logs\\20220624_224718.txt\n"
     ]
    },
    {
     "name": "stderr",
     "output_type": "stream",
     "text": [
      "C:\\Users\\Hauke\\anaconda3\\lib\\site-packages\\IPython\\core\\display.py:724: UserWarning: Consider using IPython.display.IFrame instead\n",
      "  warnings.warn(\"Consider using IPython.display.IFrame instead\")\n"
     ]
    },
    {
     "name": "stdout",
     "output_type": "stream",
     "text": [
      "1111.6856450690834\n",
      "cm_logs\\20220624_224810.txt\n"
     ]
    },
    {
     "name": "stderr",
     "output_type": "stream",
     "text": [
      "C:\\Users\\Hauke\\anaconda3\\lib\\site-packages\\IPython\\core\\display.py:724: UserWarning: Consider using IPython.display.IFrame instead\n",
      "  warnings.warn(\"Consider using IPython.display.IFrame instead\")\n"
     ]
    },
    {
     "name": "stdout",
     "output_type": "stream",
     "text": [
      "( 5 - 6 ) and ( 13 - 14 ) Crossed intersection; inLoop= True\n",
      "( 13 - 14 ) and ( 5 - 6 ) Crossed intersection; inLoop= False\n",
      "( 13 - 14 ) and ( 6 - 7 ) Crossed intersection; inLoop= True\n",
      "( 14 - 15 ) and ( 6 - 7 ) Crossed intersection; inLoop= False\n",
      "902.993235904583\n",
      "cm_logs\\20220624_224903.txt\n"
     ]
    },
    {
     "name": "stderr",
     "output_type": "stream",
     "text": [
      "C:\\Users\\Hauke\\anaconda3\\lib\\site-packages\\IPython\\core\\display.py:724: UserWarning: Consider using IPython.display.IFrame instead\n",
      "  warnings.warn(\"Consider using IPython.display.IFrame instead\")\n"
     ]
    },
    {
     "name": "stdout",
     "output_type": "stream",
     "text": [
      "1416.7857876058888\n",
      "cm_logs\\20220624_224955.txt\n"
     ]
    },
    {
     "name": "stderr",
     "output_type": "stream",
     "text": [
      "C:\\Users\\Hauke\\anaconda3\\lib\\site-packages\\IPython\\core\\display.py:724: UserWarning: Consider using IPython.display.IFrame instead\n",
      "  warnings.warn(\"Consider using IPython.display.IFrame instead\")\n"
     ]
    },
    {
     "name": "stdout",
     "output_type": "stream",
     "text": [
      "1139.573374484364\n",
      "cm_logs\\20220624_225047.txt\n"
     ]
    },
    {
     "name": "stderr",
     "output_type": "stream",
     "text": [
      "C:\\Users\\Hauke\\anaconda3\\lib\\site-packages\\IPython\\core\\display.py:724: UserWarning: Consider using IPython.display.IFrame instead\n",
      "  warnings.warn(\"Consider using IPython.display.IFrame instead\")\n"
     ]
    },
    {
     "name": "stdout",
     "output_type": "stream",
     "text": [
      "1321.2682812602063\n",
      "cm_logs\\20220624_225139.txt\n"
     ]
    },
    {
     "name": "stderr",
     "output_type": "stream",
     "text": [
      "C:\\Users\\Hauke\\anaconda3\\lib\\site-packages\\IPython\\core\\display.py:724: UserWarning: Consider using IPython.display.IFrame instead\n",
      "  warnings.warn(\"Consider using IPython.display.IFrame instead\")\n"
     ]
    },
    {
     "name": "stdout",
     "output_type": "stream",
     "text": [
      "1542.8100586959565\n",
      "cm_logs\\20220624_225231.txt\n"
     ]
    },
    {
     "name": "stderr",
     "output_type": "stream",
     "text": [
      "C:\\Users\\Hauke\\anaconda3\\lib\\site-packages\\IPython\\core\\display.py:724: UserWarning: Consider using IPython.display.IFrame instead\n",
      "  warnings.warn(\"Consider using IPython.display.IFrame instead\")\n"
     ]
    },
    {
     "name": "stdout",
     "output_type": "stream",
     "text": [
      "1090.2327210777823\n",
      "cm_logs\\20220624_225324.txt\n"
     ]
    },
    {
     "name": "stderr",
     "output_type": "stream",
     "text": [
      "C:\\Users\\Hauke\\anaconda3\\lib\\site-packages\\IPython\\core\\display.py:724: UserWarning: Consider using IPython.display.IFrame instead\n",
      "  warnings.warn(\"Consider using IPython.display.IFrame instead\")\n"
     ]
    },
    {
     "name": "stdout",
     "output_type": "stream",
     "text": [
      "1019.5811475725852\n",
      "cm_logs\\20220624_225416.txt\n"
     ]
    },
    {
     "name": "stderr",
     "output_type": "stream",
     "text": [
      "C:\\Users\\Hauke\\anaconda3\\lib\\site-packages\\IPython\\core\\display.py:724: UserWarning: Consider using IPython.display.IFrame instead\n",
      "  warnings.warn(\"Consider using IPython.display.IFrame instead\")\n"
     ]
    },
    {
     "name": "stdout",
     "output_type": "stream",
     "text": [
      "945.791494389505\n",
      "cm_logs\\20220624_225508.txt\n"
     ]
    },
    {
     "name": "stderr",
     "output_type": "stream",
     "text": [
      "C:\\Users\\Hauke\\anaconda3\\lib\\site-packages\\IPython\\core\\display.py:724: UserWarning: Consider using IPython.display.IFrame instead\n",
      "  warnings.warn(\"Consider using IPython.display.IFrame instead\")\n"
     ]
    },
    {
     "name": "stdout",
     "output_type": "stream",
     "text": [
      "1005.4163720097091\n",
      "cm_logs\\20220624_225600.txt\n"
     ]
    },
    {
     "name": "stderr",
     "output_type": "stream",
     "text": [
      "C:\\Users\\Hauke\\anaconda3\\lib\\site-packages\\IPython\\core\\display.py:724: UserWarning: Consider using IPython.display.IFrame instead\n",
      "  warnings.warn(\"Consider using IPython.display.IFrame instead\")\n"
     ]
    },
    {
     "name": "stdout",
     "output_type": "stream",
     "text": [
      "984.5798429732313\n",
      "cm_logs\\20220624_225652.txt\n"
     ]
    },
    {
     "name": "stderr",
     "output_type": "stream",
     "text": [
      "C:\\Users\\Hauke\\anaconda3\\lib\\site-packages\\IPython\\core\\display.py:724: UserWarning: Consider using IPython.display.IFrame instead\n",
      "  warnings.warn(\"Consider using IPython.display.IFrame instead\")\n"
     ]
    },
    {
     "name": "stdout",
     "output_type": "stream",
     "text": [
      "502.2612208133196\n",
      "cm_logs\\20220624_225744.txt\n"
     ]
    },
    {
     "name": "stderr",
     "output_type": "stream",
     "text": [
      "C:\\Users\\Hauke\\anaconda3\\lib\\site-packages\\IPython\\core\\display.py:724: UserWarning: Consider using IPython.display.IFrame instead\n",
      "  warnings.warn(\"Consider using IPython.display.IFrame instead\")\n"
     ]
    },
    {
     "name": "stdout",
     "output_type": "stream",
     "text": [
      "( 5 - 6 ) and ( 21 - 22 ) Crossed intersection; inLoop= True\n",
      "( 15 - 16 ) and ( 12 - 13 ) Crossed intersection; inLoop= False\n",
      "1166.6152946585805\n",
      "cm_logs\\20220624_225837.txt\n"
     ]
    },
    {
     "name": "stderr",
     "output_type": "stream",
     "text": [
      "C:\\Users\\Hauke\\anaconda3\\lib\\site-packages\\IPython\\core\\display.py:724: UserWarning: Consider using IPython.display.IFrame instead\n",
      "  warnings.warn(\"Consider using IPython.display.IFrame instead\")\n"
     ]
    },
    {
     "name": "stdout",
     "output_type": "stream",
     "text": [
      "( 14 - 15 ) and ( 18 - 19 ) Crossed intersection; inLoop= True\n",
      "( 14 - 15 ) and ( 19 - 20 ) Crossed intersection; inLoop= False\n",
      "1209.9568131598323\n",
      "cm_logs\\20220624_225929.txt\n"
     ]
    },
    {
     "name": "stderr",
     "output_type": "stream",
     "text": [
      "C:\\Users\\Hauke\\anaconda3\\lib\\site-packages\\IPython\\core\\display.py:724: UserWarning: Consider using IPython.display.IFrame instead\n",
      "  warnings.warn(\"Consider using IPython.display.IFrame instead\")\n"
     ]
    },
    {
     "name": "stdout",
     "output_type": "stream",
     "text": [
      "( 1 - 2 ) and ( 24 - 25 ) Crossed intersection; inLoop= True\n",
      "( 1 - 2 ) and ( 26 - 27 ) Crossed intersection; inLoop= False\n",
      "( 2 - 3 ) and ( 21 - 22 ) Crossed intersection; inLoop= True\n",
      "( 20 - 21 ) and ( 11 - 12 ) Crossed intersection; inLoop= False\n",
      "1438.5740185127868\n",
      "cm_logs\\20220624_230021.txt\n"
     ]
    },
    {
     "name": "stderr",
     "output_type": "stream",
     "text": [
      "C:\\Users\\Hauke\\anaconda3\\lib\\site-packages\\IPython\\core\\display.py:724: UserWarning: Consider using IPython.display.IFrame instead\n",
      "  warnings.warn(\"Consider using IPython.display.IFrame instead\")\n"
     ]
    },
    {
     "name": "stdout",
     "output_type": "stream",
     "text": [
      "( 12 - 13 ) and ( 16 - 17 ) Crossed intersection; inLoop= True\n",
      "( 12 - 13 ) and ( 17 - 18 ) Crossed intersection; inLoop= False\n",
      "921.2276350001246\n",
      "cm_logs\\20220624_230113.txt\n"
     ]
    },
    {
     "name": "stderr",
     "output_type": "stream",
     "text": [
      "C:\\Users\\Hauke\\anaconda3\\lib\\site-packages\\IPython\\core\\display.py:724: UserWarning: Consider using IPython.display.IFrame instead\n",
      "  warnings.warn(\"Consider using IPython.display.IFrame instead\")\n"
     ]
    },
    {
     "name": "stdout",
     "output_type": "stream",
     "text": [
      "( 1 - 2 ) and ( 24 - 25 ) Crossed intersection; inLoop= True\n",
      "( 10 - 11 ) and ( 6 - 7 ) Crossed intersection; inLoop= False\n",
      "869.1198025104475\n",
      "cm_logs\\20220624_230205.txt\n"
     ]
    },
    {
     "name": "stderr",
     "output_type": "stream",
     "text": [
      "C:\\Users\\Hauke\\anaconda3\\lib\\site-packages\\IPython\\core\\display.py:724: UserWarning: Consider using IPython.display.IFrame instead\n",
      "  warnings.warn(\"Consider using IPython.display.IFrame instead\")\n"
     ]
    },
    {
     "name": "stdout",
     "output_type": "stream",
     "text": [
      "( 1 - 2 ) and ( 9 - 10 ) Crossed intersection; inLoop= True\n",
      "( 6 - 7 ) and ( 2 - 3 ) Crossed intersection; inLoop= False\n",
      "( 14 - 15 ) and ( 18 - 19 ) Crossed intersection; inLoop= True\n",
      "( 14 - 15 ) and ( 19 - 20 ) Crossed intersection; inLoop= False\n",
      "862.7463945765069\n",
      "cm_logs\\20220624_230257.txt\n"
     ]
    },
    {
     "name": "stderr",
     "output_type": "stream",
     "text": [
      "C:\\Users\\Hauke\\anaconda3\\lib\\site-packages\\IPython\\core\\display.py:724: UserWarning: Consider using IPython.display.IFrame instead\n",
      "  warnings.warn(\"Consider using IPython.display.IFrame instead\")\n"
     ]
    },
    {
     "name": "stdout",
     "output_type": "stream",
     "text": [
      "( 6 - 7 ) and ( 11 - 12 ) Crossed intersection; inLoop= True\n",
      "( 6 - 7 ) and ( 12 - 13 ) Crossed intersection; inLoop= False\n",
      "( 6 - 7 ) and ( 14 - 15 ) Crossed intersection; inLoop= True\n",
      "( 11 - 12 ) and ( 6 - 7 ) Crossed intersection; inLoop= False\n",
      "( 12 - 13 ) and ( 14 - 15 ) Crossed intersection; inLoop= True\n",
      "( 13 - 14 ) and ( 7 - 8 ) Crossed intersection; inLoop= False\n",
      "252.57342695419885\n",
      "cm_logs\\20220624_230349.txt\n"
     ]
    },
    {
     "name": "stderr",
     "output_type": "stream",
     "text": [
      "C:\\Users\\Hauke\\anaconda3\\lib\\site-packages\\IPython\\core\\display.py:724: UserWarning: Consider using IPython.display.IFrame instead\n",
      "  warnings.warn(\"Consider using IPython.display.IFrame instead\")\n"
     ]
    },
    {
     "name": "stdout",
     "output_type": "stream",
     "text": [
      "( 14 - 15 ) and ( 18 - 19 ) Crossed intersection; inLoop= True\n",
      "( 14 - 15 ) and ( 19 - 20 ) Crossed intersection; inLoop= False\n",
      "997.4461753785646\n",
      "cm_logs\\20220624_230441.txt\n"
     ]
    },
    {
     "name": "stderr",
     "output_type": "stream",
     "text": [
      "C:\\Users\\Hauke\\anaconda3\\lib\\site-packages\\IPython\\core\\display.py:724: UserWarning: Consider using IPython.display.IFrame instead\n",
      "  warnings.warn(\"Consider using IPython.display.IFrame instead\")\n"
     ]
    },
    {
     "name": "stdout",
     "output_type": "stream",
     "text": [
      "( 4 - 5 ) and ( 27 - 28 ) Crossed intersection; inLoop= True\n",
      "( 11 - 12 ) and ( 6 - 7 ) Crossed intersection; inLoop= False\n",
      "1346.1427206686453\n",
      "cm_logs\\20220624_230533.txt\n"
     ]
    },
    {
     "name": "stderr",
     "output_type": "stream",
     "text": [
      "C:\\Users\\Hauke\\anaconda3\\lib\\site-packages\\IPython\\core\\display.py:724: UserWarning: Consider using IPython.display.IFrame instead\n",
      "  warnings.warn(\"Consider using IPython.display.IFrame instead\")\n"
     ]
    },
    {
     "name": "stdout",
     "output_type": "stream",
     "text": [
      "( 0 - 1 ) and ( 16 - 17 ) Crossed intersection; inLoop= True\n",
      "( 16 - 17 ) and ( 0 - 1 ) Crossed intersection; inLoop= False\n",
      "( 17 - 18 ) and ( 21 - 22 ) Crossed intersection; inLoop= True\n",
      "( 17 - 18 ) and ( 22 - 23 ) Crossed intersection; inLoop= False\n",
      "( 26 - 27 ) and ( 31 - 32 ) Crossed intersection; inLoop= True\n",
      "( 31 - 32 ) and ( 14 - 15 ) Crossed intersection; inLoop= False\n",
      "( 31 - 32 ) and ( 26 - 27 ) Crossed intersection; inLoop= True\n",
      "783.4590040487356\n",
      "cm_logs\\20220624_230625.txt\n"
     ]
    },
    {
     "name": "stderr",
     "output_type": "stream",
     "text": [
      "C:\\Users\\Hauke\\anaconda3\\lib\\site-packages\\IPython\\core\\display.py:724: UserWarning: Consider using IPython.display.IFrame instead\n",
      "  warnings.warn(\"Consider using IPython.display.IFrame instead\")\n"
     ]
    },
    {
     "name": "stdout",
     "output_type": "stream",
     "text": [
      "( 4 - 5 ) and ( 8 - 9 ) Crossed intersection; inLoop= True\n",
      "( 4 - 5 ) and ( 9 - 10 ) Crossed intersection; inLoop= False\n",
      "1179.6287128117442\n",
      "cm_logs\\20220624_230717.txt\n"
     ]
    },
    {
     "name": "stderr",
     "output_type": "stream",
     "text": [
      "C:\\Users\\Hauke\\anaconda3\\lib\\site-packages\\IPython\\core\\display.py:724: UserWarning: Consider using IPython.display.IFrame instead\n",
      "  warnings.warn(\"Consider using IPython.display.IFrame instead\")\n"
     ]
    },
    {
     "name": "stdout",
     "output_type": "stream",
     "text": [
      "( 4 - 5 ) and ( 8 - 9 ) Crossed intersection; inLoop= True\n",
      "( 4 - 5 ) and ( 9 - 10 ) Crossed intersection; inLoop= False\n",
      "( 24 - 25 ) and ( 29 - 30 ) Crossed intersection; inLoop= True\n",
      "( 28 - 29 ) and ( 26 - 27 ) Crossed intersection; inLoop= False\n",
      "1125.5190077686361\n",
      "cm_logs\\20220624_230809.txt\n"
     ]
    },
    {
     "name": "stderr",
     "output_type": "stream",
     "text": [
      "C:\\Users\\Hauke\\anaconda3\\lib\\site-packages\\IPython\\core\\display.py:724: UserWarning: Consider using IPython.display.IFrame instead\n",
      "  warnings.warn(\"Consider using IPython.display.IFrame instead\")\n"
     ]
    },
    {
     "name": "stdout",
     "output_type": "stream",
     "text": [
      "27.414111036558335\n",
      "cm_logs\\20220624_230901.txt\n"
     ]
    },
    {
     "name": "stderr",
     "output_type": "stream",
     "text": [
      "C:\\Users\\Hauke\\anaconda3\\lib\\site-packages\\IPython\\core\\display.py:724: UserWarning: Consider using IPython.display.IFrame instead\n",
      "  warnings.warn(\"Consider using IPython.display.IFrame instead\")\n"
     ]
    },
    {
     "name": "stdout",
     "output_type": "stream",
     "text": [
      "( 2 - 3 ) and ( 20 - 21 ) Crossed intersection; inLoop= True\n",
      "( 11 - 12 ) and ( 7 - 8 ) Crossed intersection; inLoop= False\n",
      "929.0825280049185\n",
      "cm_logs\\20220624_230953.txt\n"
     ]
    },
    {
     "name": "stderr",
     "output_type": "stream",
     "text": [
      "C:\\Users\\Hauke\\anaconda3\\lib\\site-packages\\IPython\\core\\display.py:724: UserWarning: Consider using IPython.display.IFrame instead\n",
      "  warnings.warn(\"Consider using IPython.display.IFrame instead\")\n"
     ]
    },
    {
     "name": "stdout",
     "output_type": "stream",
     "text": [
      "( 4 - 5 ) and ( 8 - 9 ) Crossed intersection; inLoop= True\n",
      "( 4 - 5 ) and ( 9 - 10 ) Crossed intersection; inLoop= False\n",
      "972.0210418917778\n",
      "cm_logs\\20220624_231045.txt\n"
     ]
    },
    {
     "name": "stderr",
     "output_type": "stream",
     "text": [
      "C:\\Users\\Hauke\\anaconda3\\lib\\site-packages\\IPython\\core\\display.py:724: UserWarning: Consider using IPython.display.IFrame instead\n",
      "  warnings.warn(\"Consider using IPython.display.IFrame instead\")\n"
     ]
    },
    {
     "name": "stdout",
     "output_type": "stream",
     "text": [
      "( 0 - 1 ) and ( 8 - 9 ) Crossed intersection; inLoop= True\n",
      "( 8 - 9 ) and ( 0 - 1 ) Crossed intersection; inLoop= False\n",
      "( 11 - 12 ) and ( 15 - 16 ) Crossed intersection; inLoop= True\n",
      "( 11 - 12 ) and ( 16 - 17 ) Crossed intersection; inLoop= False\n",
      "955.0679424181552\n",
      "cm_logs\\20220624_231137.txt\n"
     ]
    },
    {
     "name": "stderr",
     "output_type": "stream",
     "text": [
      "C:\\Users\\Hauke\\anaconda3\\lib\\site-packages\\IPython\\core\\display.py:724: UserWarning: Consider using IPython.display.IFrame instead\n",
      "  warnings.warn(\"Consider using IPython.display.IFrame instead\")\n"
     ]
    },
    {
     "name": "stdout",
     "output_type": "stream",
     "text": [
      "( 0 - 1 ) and ( 24 - 25 ) Crossed intersection; inLoop= True\n",
      "( 24 - 25 ) and ( 0 - 1 ) Crossed intersection; inLoop= False\n",
      "2.5905779414763437\n",
      "cm_logs\\20220624_231230.txt\n"
     ]
    },
    {
     "name": "stderr",
     "output_type": "stream",
     "text": [
      "C:\\Users\\Hauke\\anaconda3\\lib\\site-packages\\IPython\\core\\display.py:724: UserWarning: Consider using IPython.display.IFrame instead\n",
      "  warnings.warn(\"Consider using IPython.display.IFrame instead\")\n"
     ]
    },
    {
     "name": "stdout",
     "output_type": "stream",
     "text": [
      "( 0 - 1 ) and ( 8 - 9 ) Crossed intersection; inLoop= True\n",
      "( 8 - 9 ) and ( 0 - 1 ) Crossed intersection; inLoop= False\n",
      "368.7417826048707\n",
      "cm_logs\\20220624_231321.txt\n"
     ]
    },
    {
     "name": "stderr",
     "output_type": "stream",
     "text": [
      "C:\\Users\\Hauke\\anaconda3\\lib\\site-packages\\IPython\\core\\display.py:724: UserWarning: Consider using IPython.display.IFrame instead\n",
      "  warnings.warn(\"Consider using IPython.display.IFrame instead\")\n"
     ]
    },
    {
     "name": "stdout",
     "output_type": "stream",
     "text": [
      "238.61576358877355\n",
      "cm_logs\\20220624_231414.txt\n"
     ]
    },
    {
     "name": "stderr",
     "output_type": "stream",
     "text": [
      "C:\\Users\\Hauke\\anaconda3\\lib\\site-packages\\IPython\\core\\display.py:724: UserWarning: Consider using IPython.display.IFrame instead\n",
      "  warnings.warn(\"Consider using IPython.display.IFrame instead\")\n"
     ]
    },
    {
     "name": "stdout",
     "output_type": "stream",
     "text": [
      "( 3 - 4 ) and ( 22 - 23 ) Crossed intersection; inLoop= True\n",
      "( 3 - 4 ) and ( 23 - 24 ) Crossed intersection; inLoop= False\n",
      "( 11 - 12 ) and ( 23 - 24 ) Crossed intersection; inLoop= True\n",
      "( 20 - 21 ) and ( 16 - 17 ) Crossed intersection; inLoop= False\n",
      "1043.1013769291696\n",
      "cm_logs\\20220624_231506.txt\n"
     ]
    },
    {
     "name": "stderr",
     "output_type": "stream",
     "text": [
      "C:\\Users\\Hauke\\anaconda3\\lib\\site-packages\\IPython\\core\\display.py:724: UserWarning: Consider using IPython.display.IFrame instead\n",
      "  warnings.warn(\"Consider using IPython.display.IFrame instead\")\n"
     ]
    },
    {
     "name": "stdout",
     "output_type": "stream",
     "text": [
      "( 2 - 3 ) and ( 9 - 10 ) Crossed intersection; inLoop= True\n",
      "( 2 - 3 ) and ( 10 - 11 ) Crossed intersection; inLoop= False\n",
      "( 6 - 7 ) and ( 10 - 11 ) Crossed intersection; inLoop= True\n",
      "( 9 - 10 ) and ( 2 - 3 ) Crossed intersection; inLoop= False\n",
      "275.3759538469317\n",
      "cm_logs\\20220624_231559.txt\n"
     ]
    },
    {
     "name": "stderr",
     "output_type": "stream",
     "text": [
      "C:\\Users\\Hauke\\anaconda3\\lib\\site-packages\\IPython\\core\\display.py:724: UserWarning: Consider using IPython.display.IFrame instead\n",
      "  warnings.warn(\"Consider using IPython.display.IFrame instead\")\n"
     ]
    },
    {
     "name": "stdout",
     "output_type": "stream",
     "text": [
      "( 7 - 8 ) and ( 10 - 11 ) Crossed intersection; inLoop= True\n",
      "( 10 - 11 ) and ( 7 - 8 ) Crossed intersection; inLoop= False\n",
      "215.64151128769367\n",
      "cm_logs\\20220624_231651.txt\n"
     ]
    },
    {
     "name": "stderr",
     "output_type": "stream",
     "text": [
      "C:\\Users\\Hauke\\anaconda3\\lib\\site-packages\\IPython\\core\\display.py:724: UserWarning: Consider using IPython.display.IFrame instead\n",
      "  warnings.warn(\"Consider using IPython.display.IFrame instead\")\n"
     ]
    },
    {
     "name": "stdout",
     "output_type": "stream",
     "text": [
      "( 8 - 9 ) and ( 12 - 13 ) Crossed intersection; inLoop= True\n",
      "( 8 - 9 ) and ( 13 - 14 ) Crossed intersection; inLoop= False\n",
      "881.6542552616426\n",
      "cm_logs\\20220624_231743.txt\n"
     ]
    },
    {
     "name": "stderr",
     "output_type": "stream",
     "text": [
      "C:\\Users\\Hauke\\anaconda3\\lib\\site-packages\\IPython\\core\\display.py:724: UserWarning: Consider using IPython.display.IFrame instead\n",
      "  warnings.warn(\"Consider using IPython.display.IFrame instead\")\n"
     ]
    },
    {
     "name": "stdout",
     "output_type": "stream",
     "text": [
      "258.7975975873822\n",
      "cm_logs\\20220624_231835.txt\n"
     ]
    },
    {
     "name": "stderr",
     "output_type": "stream",
     "text": [
      "C:\\Users\\Hauke\\anaconda3\\lib\\site-packages\\IPython\\core\\display.py:724: UserWarning: Consider using IPython.display.IFrame instead\n",
      "  warnings.warn(\"Consider using IPython.display.IFrame instead\")\n"
     ]
    },
    {
     "name": "stdout",
     "output_type": "stream",
     "text": [
      "148.97661817224144\n",
      "cm_logs\\20220624_231927.txt\n"
     ]
    },
    {
     "name": "stderr",
     "output_type": "stream",
     "text": [
      "C:\\Users\\Hauke\\anaconda3\\lib\\site-packages\\IPython\\core\\display.py:724: UserWarning: Consider using IPython.display.IFrame instead\n",
      "  warnings.warn(\"Consider using IPython.display.IFrame instead\")\n"
     ]
    },
    {
     "name": "stdout",
     "output_type": "stream",
     "text": [
      "( 16 - 17 ) and ( 19 - 20 ) Crossed intersection; inLoop= True\n",
      "( 16 - 17 ) and ( 21 - 22 ) Crossed intersection; inLoop= False\n",
      "1953.9635005938387\n",
      "cm_logs\\20220624_232019.txt\n"
     ]
    },
    {
     "name": "stderr",
     "output_type": "stream",
     "text": [
      "C:\\Users\\Hauke\\anaconda3\\lib\\site-packages\\IPython\\core\\display.py:724: UserWarning: Consider using IPython.display.IFrame instead\n",
      "  warnings.warn(\"Consider using IPython.display.IFrame instead\")\n"
     ]
    },
    {
     "name": "stdout",
     "output_type": "stream",
     "text": [
      "1350.3483036295936\n",
      "cm_logs\\20220624_232111.txt\n"
     ]
    },
    {
     "name": "stderr",
     "output_type": "stream",
     "text": [
      "C:\\Users\\Hauke\\anaconda3\\lib\\site-packages\\IPython\\core\\display.py:724: UserWarning: Consider using IPython.display.IFrame instead\n",
      "  warnings.warn(\"Consider using IPython.display.IFrame instead\")\n"
     ]
    },
    {
     "name": "stdout",
     "output_type": "stream",
     "text": [
      "1238.0805158122748\n",
      "cm_logs\\20220624_232203.txt\n"
     ]
    },
    {
     "name": "stderr",
     "output_type": "stream",
     "text": [
      "C:\\Users\\Hauke\\anaconda3\\lib\\site-packages\\IPython\\core\\display.py:724: UserWarning: Consider using IPython.display.IFrame instead\n",
      "  warnings.warn(\"Consider using IPython.display.IFrame instead\")\n"
     ]
    },
    {
     "name": "stdout",
     "output_type": "stream",
     "text": [
      "( 3 - 4 ) and ( 19 - 20 ) Crossed intersection; inLoop= True\n",
      "( 17 - 18 ) and ( 13 - 14 ) Crossed intersection; inLoop= False\n",
      "999.9773880901477\n",
      "cm_logs\\20220624_232255.txt\n"
     ]
    },
    {
     "name": "stderr",
     "output_type": "stream",
     "text": [
      "C:\\Users\\Hauke\\anaconda3\\lib\\site-packages\\IPython\\core\\display.py:724: UserWarning: Consider using IPython.display.IFrame instead\n",
      "  warnings.warn(\"Consider using IPython.display.IFrame instead\")\n"
     ]
    },
    {
     "name": "stdout",
     "output_type": "stream",
     "text": [
      "113.45715560370338\n",
      "cm_logs\\20220624_232347.txt\n"
     ]
    },
    {
     "name": "stderr",
     "output_type": "stream",
     "text": [
      "C:\\Users\\Hauke\\anaconda3\\lib\\site-packages\\IPython\\core\\display.py:724: UserWarning: Consider using IPython.display.IFrame instead\n",
      "  warnings.warn(\"Consider using IPython.display.IFrame instead\")\n"
     ]
    },
    {
     "name": "stdout",
     "output_type": "stream",
     "text": [
      "1457.2983727969456\n",
      "cm_logs\\20220624_232439.txt\n"
     ]
    },
    {
     "name": "stderr",
     "output_type": "stream",
     "text": [
      "C:\\Users\\Hauke\\anaconda3\\lib\\site-packages\\IPython\\core\\display.py:724: UserWarning: Consider using IPython.display.IFrame instead\n",
      "  warnings.warn(\"Consider using IPython.display.IFrame instead\")\n"
     ]
    },
    {
     "name": "stdout",
     "output_type": "stream",
     "text": [
      "( 0 - 1 ) and ( 6 - 7 ) Crossed intersection; inLoop= True\n",
      "( 6 - 7 ) and ( 0 - 1 ) Crossed intersection; inLoop= False\n",
      "81.62609171671635\n",
      "cm_logs\\20220624_232531.txt\n"
     ]
    },
    {
     "name": "stderr",
     "output_type": "stream",
     "text": [
      "C:\\Users\\Hauke\\anaconda3\\lib\\site-packages\\IPython\\core\\display.py:724: UserWarning: Consider using IPython.display.IFrame instead\n",
      "  warnings.warn(\"Consider using IPython.display.IFrame instead\")\n"
     ]
    },
    {
     "name": "stdout",
     "output_type": "stream",
     "text": [
      "( 0 - 1 ) and ( 6 - 7 ) Crossed intersection; inLoop= True\n",
      "( 0 - 1 ) and ( 7 - 8 ) Crossed intersection; inLoop= False\n",
      "( 1 - 2 ) and ( 7 - 8 ) Crossed intersection; inLoop= True\n",
      "( 6 - 7 ) and ( 0 - 1 ) Crossed intersection; inLoop= False\n",
      "66.07143867784478\n",
      "cm_logs\\20220624_232623.txt\n"
     ]
    },
    {
     "name": "stderr",
     "output_type": "stream",
     "text": [
      "C:\\Users\\Hauke\\anaconda3\\lib\\site-packages\\IPython\\core\\display.py:724: UserWarning: Consider using IPython.display.IFrame instead\n",
      "  warnings.warn(\"Consider using IPython.display.IFrame instead\")\n"
     ]
    },
    {
     "name": "stdout",
     "output_type": "stream",
     "text": [
      "( 4 - 5 ) and ( 8 - 9 ) Crossed intersection; inLoop= True\n",
      "( 4 - 5 ) and ( 9 - 10 ) Crossed intersection; inLoop= False\n",
      "981.5670980541333\n",
      "cm_logs\\20220624_232715.txt\n"
     ]
    },
    {
     "name": "stderr",
     "output_type": "stream",
     "text": [
      "C:\\Users\\Hauke\\anaconda3\\lib\\site-packages\\IPython\\core\\display.py:724: UserWarning: Consider using IPython.display.IFrame instead\n",
      "  warnings.warn(\"Consider using IPython.display.IFrame instead\")\n"
     ]
    },
    {
     "name": "stdout",
     "output_type": "stream",
     "text": [
      "( 0 - 1 ) and ( 7 - 8 ) Crossed intersection; inLoop= True\n",
      "( 0 - 1 ) and ( 8 - 9 ) Crossed intersection; inLoop= False\n",
      "( 1 - 2 ) and ( 8 - 9 ) Crossed intersection; inLoop= True\n",
      "( 7 - 8 ) and ( 0 - 1 ) Crossed intersection; inLoop= False\n",
      "18.37761142599929\n",
      "cm_logs\\20220624_232807.txt\n"
     ]
    },
    {
     "name": "stderr",
     "output_type": "stream",
     "text": [
      "C:\\Users\\Hauke\\anaconda3\\lib\\site-packages\\IPython\\core\\display.py:724: UserWarning: Consider using IPython.display.IFrame instead\n",
      "  warnings.warn(\"Consider using IPython.display.IFrame instead\")\n"
     ]
    },
    {
     "name": "stdout",
     "output_type": "stream",
     "text": [
      "101.00255103343412\n",
      "cm_logs\\20220624_232859.txt\n"
     ]
    },
    {
     "name": "stderr",
     "output_type": "stream",
     "text": [
      "C:\\Users\\Hauke\\anaconda3\\lib\\site-packages\\IPython\\core\\display.py:724: UserWarning: Consider using IPython.display.IFrame instead\n",
      "  warnings.warn(\"Consider using IPython.display.IFrame instead\")\n"
     ]
    },
    {
     "name": "stdout",
     "output_type": "stream",
     "text": [
      "72.63409283778158\n",
      "cm_logs\\20220624_232951.txt\n"
     ]
    },
    {
     "name": "stderr",
     "output_type": "stream",
     "text": [
      "C:\\Users\\Hauke\\anaconda3\\lib\\site-packages\\IPython\\core\\display.py:724: UserWarning: Consider using IPython.display.IFrame instead\n",
      "  warnings.warn(\"Consider using IPython.display.IFrame instead\")\n"
     ]
    },
    {
     "name": "stdout",
     "output_type": "stream",
     "text": [
      "( 0 - 1 ) and ( 2 - 3 ) Crossed intersection; inLoop= True\n",
      "( 0 - 1 ) and ( 3 - 4 ) Crossed intersection; inLoop= False\n",
      "68.60534150416842\n",
      "cm_logs\\20220624_233043.txt\n",
      "( 3 - 4"
     ]
    },
    {
     "name": "stderr",
     "output_type": "stream",
     "text": [
      "C:\\Users\\Hauke\\anaconda3\\lib\\site-packages\\IPython\\core\\display.py:724: UserWarning: Consider using IPython.display.IFrame instead\n",
      "  warnings.warn(\"Consider using IPython.display.IFrame instead\")\n"
     ]
    },
    {
     "name": "stdout",
     "output_type": "stream",
     "text": [
      " ) and ( 7 - 8 ) Crossed intersection; inLoop= True\n",
      "( 3 - 4 ) and ( 8 - 9 ) Crossed intersection; inLoop= False\n",
      "( 4 - 5 ) and ( 7 - 8 ) Crossed intersection; inLoop= True\n",
      "( 7 - 8 ) and ( 3 - 4 ) Crossed intersection; inLoop= False\n",
      "( 7 - 8 ) and ( 4 - 5 ) Crossed intersection; inLoop= True\n",
      "( 8 - 9 ) and ( 3 - 4 ) Crossed intersection; inLoop= False\n",
      "142.2003284465865\n",
      "cm_logs\\20220624_233135.txt\n"
     ]
    },
    {
     "name": "stderr",
     "output_type": "stream",
     "text": [
      "C:\\Users\\Hauke\\anaconda3\\lib\\site-packages\\IPython\\core\\display.py:724: UserWarning: Consider using IPython.display.IFrame instead\n",
      "  warnings.warn(\"Consider using IPython.display.IFrame instead\")\n"
     ]
    },
    {
     "name": "stdout",
     "output_type": "stream",
     "text": [
      "( 3 - 4 ) and ( 7 - 8 ) Crossed intersection; inLoop= True\n",
      "( 3 - 4 ) and ( 8 - 9 ) Crossed intersection; inLoop= False\n",
      "993.2194486933763\n",
      "cm_logs\\20220624_233227.txt\n"
     ]
    },
    {
     "name": "stderr",
     "output_type": "stream",
     "text": [
      "C:\\Users\\Hauke\\anaconda3\\lib\\site-packages\\IPython\\core\\display.py:724: UserWarning: Consider using IPython.display.IFrame instead\n",
      "  warnings.warn(\"Consider using IPython.display.IFrame instead\")\n"
     ]
    },
    {
     "name": "stdout",
     "output_type": "stream",
     "text": [
      "170.08625502468502\n",
      "cm_logs\\20220624_233319.txt\n"
     ]
    },
    {
     "name": "stderr",
     "output_type": "stream",
     "text": [
      "C:\\Users\\Hauke\\anaconda3\\lib\\site-packages\\IPython\\core\\display.py:724: UserWarning: Consider using IPython.display.IFrame instead\n",
      "  warnings.warn(\"Consider using IPython.display.IFrame instead\")\n"
     ]
    },
    {
     "name": "stdout",
     "output_type": "stream",
     "text": [
      "71.58322676396936\n",
      "cm_logs\\20220624_233411.txt\n"
     ]
    },
    {
     "name": "stderr",
     "output_type": "stream",
     "text": [
      "C:\\Users\\Hauke\\anaconda3\\lib\\site-packages\\IPython\\core\\display.py:724: UserWarning: Consider using IPython.display.IFrame instead\n",
      "  warnings.warn(\"Consider using IPython.display.IFrame instead\")\n"
     ]
    },
    {
     "name": "stdout",
     "output_type": "stream",
     "text": [
      "50.39953801746721\n",
      "cm_logs\\20220624_233503.txt\n",
      "( 5 - 6 ) and ( "
     ]
    },
    {
     "name": "stderr",
     "output_type": "stream",
     "text": [
      "C:\\Users\\Hauke\\anaconda3\\lib\\site-packages\\IPython\\core\\display.py:724: UserWarning: Consider using IPython.display.IFrame instead\n",
      "  warnings.warn(\"Consider using IPython.display.IFrame instead\")\n"
     ]
    },
    {
     "name": "stdout",
     "output_type": "stream",
     "text": [
      "9 - 10 ) Crossed intersection; inLoop= True\n",
      "( 5 - 6 ) and ( 10 - 11 ) Crossed intersection; inLoop= False\n",
      "275.1337450333893\n",
      "cm_logs\\20220624_233555.txt\n",
      "( 4 - 5 ) and ( 17 - 18 ) Crossed intersection; inLoop= True\n",
      "( 12 - 13 ) and ( 8 - 9 ) Crossed intersection; inLoop= False\n"
     ]
    },
    {
     "name": "stderr",
     "output_type": "stream",
     "text": [
      "C:\\Users\\Hauke\\anaconda3\\lib\\site-packages\\IPython\\core\\display.py:724: UserWarning: Consider using IPython.display.IFrame instead\n",
      "  warnings.warn(\"Consider using IPython.display.IFrame instead\")\n"
     ]
    },
    {
     "name": "stdout",
     "output_type": "stream",
     "text": [
      "835.7363994426527\n",
      "cm_logs\\20220624_233648.txt\n"
     ]
    },
    {
     "name": "stderr",
     "output_type": "stream",
     "text": [
      "C:\\Users\\Hauke\\anaconda3\\lib\\site-packages\\IPython\\core\\display.py:724: UserWarning: Consider using IPython.display.IFrame instead\n",
      "  warnings.warn(\"Consider using IPython.display.IFrame instead\")\n"
     ]
    },
    {
     "name": "stdout",
     "output_type": "stream",
     "text": [
      "144.12972963366386\n",
      "cm_logs\\20220624_233740.txt\n"
     ]
    },
    {
     "name": "stderr",
     "output_type": "stream",
     "text": [
      "C:\\Users\\Hauke\\anaconda3\\lib\\site-packages\\IPython\\core\\display.py:724: UserWarning: Consider using IPython.display.IFrame instead\n",
      "  warnings.warn(\"Consider using IPython.display.IFrame instead\")\n"
     ]
    },
    {
     "name": "stdout",
     "output_type": "stream",
     "text": [
      "186.88172196457566\n",
      "cm_logs\\20220624_233832.txt\n"
     ]
    },
    {
     "name": "stderr",
     "output_type": "stream",
     "text": [
      "C:\\Users\\Hauke\\anaconda3\\lib\\site-packages\\IPython\\core\\display.py:724: UserWarning: Consider using IPython.display.IFrame instead\n",
      "  warnings.warn(\"Consider using IPython.display.IFrame instead\")\n"
     ]
    },
    {
     "name": "stdout",
     "output_type": "stream",
     "text": [
      "356.20354783670064\n",
      "cm_logs\\20220624_233923.txt\n"
     ]
    },
    {
     "name": "stderr",
     "output_type": "stream",
     "text": [
      "C:\\Users\\Hauke\\anaconda3\\lib\\site-packages\\IPython\\core\\display.py:724: UserWarning: Consider using IPython.display.IFrame instead\n",
      "  warnings.warn(\"Consider using IPython.display.IFrame instead\")\n"
     ]
    },
    {
     "name": "stdout",
     "output_type": "stream",
     "text": [
      "( 14 - 15 ) and ( 31 - 32 ) Crossed intersection; inLoop= True\n",
      "( 14 - 15 ) and ( 34 - 35 ) Crossed intersection; inLoop= False\n",
      "( 27 - 28 ) and ( 35 - 36 ) Crossed intersection; inLoop= True\n",
      "( 27 - 28 ) and ( 36 - 37 ) Crossed intersection; inLoop= False\n",
      "( 28 - 29 ) and ( 35 - 36 ) Crossed intersection; inLoop= True\n",
      "( 31 - 32 ) and ( 14 - 15 ) Crossed intersection; inLoop= False\n",
      "3396.651707753072\n",
      "cm_logs\\20220624_234016.txt\n"
     ]
    },
    {
     "name": "stderr",
     "output_type": "stream",
     "text": [
      "C:\\Users\\Hauke\\anaconda3\\lib\\site-packages\\IPython\\core\\display.py:724: UserWarning: Consider using IPython.display.IFrame instead\n",
      "  warnings.warn(\"Consider using IPython.display.IFrame instead\")\n"
     ]
    },
    {
     "name": "stdout",
     "output_type": "stream",
     "text": [
      "1677.6089013906446\n",
      "cm_logs\\20220624_234107.txt\n"
     ]
    },
    {
     "name": "stderr",
     "output_type": "stream",
     "text": [
      "C:\\Users\\Hauke\\anaconda3\\lib\\site-packages\\IPython\\core\\display.py:724: UserWarning: Consider using IPython.display.IFrame instead\n",
      "  warnings.warn(\"Consider using IPython.display.IFrame instead\")\n"
     ]
    },
    {
     "name": "stdout",
     "output_type": "stream",
     "text": [
      "942.3727063908378\n",
      "cm_logs\\20220624_234200.txt\n"
     ]
    },
    {
     "name": "stderr",
     "output_type": "stream",
     "text": [
      "C:\\Users\\Hauke\\anaconda3\\lib\\site-packages\\IPython\\core\\display.py:724: UserWarning: Consider using IPython.display.IFrame instead\n",
      "  warnings.warn(\"Consider using IPython.display.IFrame instead\")\n"
     ]
    },
    {
     "name": "stdout",
     "output_type": "stream",
     "text": [
      "12.789150254154794\n",
      "cm_logs\\20220624_234252.txt\n"
     ]
    },
    {
     "name": "stderr",
     "output_type": "stream",
     "text": [
      "C:\\Users\\Hauke\\anaconda3\\lib\\site-packages\\IPython\\core\\display.py:724: UserWarning: Consider using IPython.display.IFrame instead\n",
      "  warnings.warn(\"Consider using IPython.display.IFrame instead\")\n"
     ]
    },
    {
     "name": "stdout",
     "output_type": "stream",
     "text": [
      "35.837975169825874\n",
      "cm_logs\\20220624_234344.txt\n"
     ]
    },
    {
     "name": "stderr",
     "output_type": "stream",
     "text": [
      "C:\\Users\\Hauke\\anaconda3\\lib\\site-packages\\IPython\\core\\display.py:724: UserWarning: Consider using IPython.display.IFrame instead\n",
      "  warnings.warn(\"Consider using IPython.display.IFrame instead\")\n"
     ]
    },
    {
     "name": "stdout",
     "output_type": "stream",
     "text": [
      "35.837975169825874\n",
      "cm_logs\\20220624_234436.txt\n"
     ]
    },
    {
     "name": "stderr",
     "output_type": "stream",
     "text": [
      "C:\\Users\\Hauke\\anaconda3\\lib\\site-packages\\IPython\\core\\display.py:724: UserWarning: Consider using IPython.display.IFrame instead\n",
      "  warnings.warn(\"Consider using IPython.display.IFrame instead\")\n"
     ]
    },
    {
     "name": "stdout",
     "output_type": "stream",
     "text": [
      "25.744110210445946\n",
      "cm_logs\\20220624_234528.txt\n"
     ]
    },
    {
     "name": "stderr",
     "output_type": "stream",
     "text": [
      "C:\\Users\\Hauke\\anaconda3\\lib\\site-packages\\IPython\\core\\display.py:724: UserWarning: Consider using IPython.display.IFrame instead\n",
      "  warnings.warn(\"Consider using IPython.display.IFrame instead\")\n"
     ]
    },
    {
     "name": "stdout",
     "output_type": "stream",
     "text": [
      "35.89878318812717\n",
      "cm_logs\\20220624_234620.txt\n"
     ]
    },
    {
     "name": "stderr",
     "output_type": "stream",
     "text": [
      "C:\\Users\\Hauke\\anaconda3\\lib\\site-packages\\IPython\\core\\display.py:724: UserWarning: Consider using IPython.display.IFrame instead\n",
      "  warnings.warn(\"Consider using IPython.display.IFrame instead\")\n"
     ]
    },
    {
     "ename": "KeyError",
     "evalue": "'matchings'",
     "output_type": "error",
     "traceback": [
      "\u001b[1;31m---------------------------------------------------------------------------\u001b[0m",
      "\u001b[1;31mKeyError\u001b[0m                                  Traceback (most recent call last)",
      "\u001b[1;32m~\\AppData\\Local\\Temp/ipykernel_4648/3081272415.py\u001b[0m in \u001b[0;36m<module>\u001b[1;34m\u001b[0m\n\u001b[0;32m      5\u001b[0m         \u001b[1;32mif\u001b[0m \u001b[0mentry\u001b[0m\u001b[1;33m.\u001b[0m\u001b[0mpath\u001b[0m\u001b[1;33m.\u001b[0m\u001b[0mendswith\u001b[0m\u001b[1;33m(\u001b[0m\u001b[1;34m\".txt\"\u001b[0m\u001b[1;33m)\u001b[0m\u001b[1;33m:\u001b[0m\u001b[1;33m\u001b[0m\u001b[1;33m\u001b[0m\u001b[0m\n\u001b[0;32m      6\u001b[0m             \u001b[0mprint\u001b[0m\u001b[1;33m(\u001b[0m\u001b[0mentry\u001b[0m\u001b[1;33m.\u001b[0m\u001b[0mpath\u001b[0m\u001b[1;33m)\u001b[0m\u001b[1;33m\u001b[0m\u001b[1;33m\u001b[0m\u001b[0m\n\u001b[1;32m----> 7\u001b[1;33m             \u001b[0mresult\u001b[0m \u001b[1;33m=\u001b[0m \u001b[0mcml_analyse\u001b[0m\u001b[1;33m(\u001b[0m\u001b[0mentry\u001b[0m\u001b[1;33m.\u001b[0m\u001b[0mpath\u001b[0m\u001b[1;33m)\u001b[0m\u001b[1;33m\u001b[0m\u001b[1;33m\u001b[0m\u001b[0m\n\u001b[0m\u001b[0;32m      8\u001b[0m             \u001b[0mprint\u001b[0m\u001b[1;33m(\u001b[0m\u001b[0mresult\u001b[0m\u001b[1;33m[\u001b[0m\u001b[1;34m'length'\u001b[0m\u001b[1;33m]\u001b[0m\u001b[1;33m)\u001b[0m\u001b[1;33m\u001b[0m\u001b[1;33m\u001b[0m\u001b[0m\n\u001b[0;32m      9\u001b[0m             \u001b[0mname_list\u001b[0m\u001b[1;33m.\u001b[0m\u001b[0mappend\u001b[0m\u001b[1;33m(\u001b[0m\u001b[0mentry\u001b[0m\u001b[1;33m.\u001b[0m\u001b[0mname\u001b[0m\u001b[1;33m)\u001b[0m\u001b[1;33m\u001b[0m\u001b[1;33m\u001b[0m\u001b[0m\n",
      "\u001b[1;32m~\\AppData\\Local\\Temp/ipykernel_4648/1642175532.py\u001b[0m in \u001b[0;36mcml_analyse\u001b[1;34m(path, plot_save_path, search_radius)\u001b[0m\n\u001b[0;32m     19\u001b[0m     \u001b[0mp2\u001b[0m \u001b[1;33m=\u001b[0m \u001b[0msort_points\u001b[0m\u001b[1;33m(\u001b[0m\u001b[0mp1_avg\u001b[0m\u001b[1;33m)\u001b[0m\u001b[1;33m\u001b[0m\u001b[1;33m\u001b[0m\u001b[0m\n\u001b[0;32m     20\u001b[0m     \u001b[1;31m# STEP 5: Snap points to road\u001b[0m\u001b[1;33m\u001b[0m\u001b[1;33m\u001b[0m\u001b[0m\n\u001b[1;32m---> 21\u001b[1;33m     \u001b[0mmatch0NoLoop\u001b[0m\u001b[1;33m,\u001b[0m\u001b[0mmatch0Unique\u001b[0m \u001b[1;33m=\u001b[0m \u001b[0mosrm_match\u001b[0m\u001b[1;33m(\u001b[0m\u001b[0mp2\u001b[0m\u001b[1;33m[\u001b[0m\u001b[1;33m:\u001b[0m\u001b[1;33m,\u001b[0m\u001b[1;33m:\u001b[0m\u001b[1;33m]\u001b[0m\u001b[1;33m)\u001b[0m\u001b[1;33m\u001b[0m\u001b[1;33m\u001b[0m\u001b[0m\n\u001b[0m\u001b[0;32m     22\u001b[0m \u001b[1;33m\u001b[0m\u001b[0m\n\u001b[0;32m     23\u001b[0m     \u001b[1;31m# Create result plot\u001b[0m\u001b[1;33m\u001b[0m\u001b[1;33m\u001b[0m\u001b[0m\n",
      "\u001b[1;32m~\\Nextcloud\\Software\\critical_length\\cml_functions.ipynb\u001b[0m in \u001b[0;36mosrm_match\u001b[1;34m(point_list)\u001b[0m\n\u001b[0;32m    307\u001b[0m   {\n\u001b[0;32m    308\u001b[0m    \u001b[1;34m\"cell_type\"\u001b[0m\u001b[1;33m:\u001b[0m \u001b[1;34m\"code\"\u001b[0m\u001b[1;33m,\u001b[0m\u001b[1;33m\u001b[0m\u001b[1;33m\u001b[0m\u001b[0m\n\u001b[1;32m--> 309\u001b[1;33m    \u001b[1;34m\"execution_count\"\u001b[0m\u001b[1;33m:\u001b[0m \u001b[1;36m37\u001b[0m\u001b[1;33m,\u001b[0m\u001b[1;33m\u001b[0m\u001b[1;33m\u001b[0m\u001b[0m\n\u001b[0m\u001b[0;32m    310\u001b[0m    \u001b[1;34m\"id\"\u001b[0m\u001b[1;33m:\u001b[0m \u001b[1;34m\"8c4eacff-9ca3-491a-8782-24ffc0bc435f\"\u001b[0m\u001b[1;33m,\u001b[0m\u001b[1;33m\u001b[0m\u001b[1;33m\u001b[0m\u001b[0m\n\u001b[0;32m    311\u001b[0m    \u001b[1;34m\"metadata\"\u001b[0m\u001b[1;33m:\u001b[0m \u001b[1;33m{\u001b[0m\u001b[1;33m}\u001b[0m\u001b[1;33m,\u001b[0m\u001b[1;33m\u001b[0m\u001b[1;33m\u001b[0m\u001b[0m\n",
      "\u001b[1;31mKeyError\u001b[0m: 'matchings'"
     ]
    }
   ],
   "source": [
    "name_list = []\n",
    "length_list = []\n",
    "for ii,entry in enumerate(os.scandir('cm_logs')):\n",
    "    if ii%5==0:\n",
    "        if entry.path.endswith(\".txt\"):\n",
    "            print(entry.path)\n",
    "            result = cml_analyse(entry.path)\n",
    "            print(result['length'])\n",
    "            name_list.append(entry.name)\n",
    "            length_list.append(result['length'])\n",
    "            sleep(1)"
   ]
  },
  {
   "cell_type": "code",
   "execution_count": 9,
   "id": "2d89a6bc-2b30-44ca-9867-46065e132d59",
   "metadata": {},
   "outputs": [
    {
     "name": "stdout",
     "output_type": "stream",
     "text": [
      "['20220624_202509.txt', '20220624_202644.txt', '20220624_202735.txt', '20220624_202827.txt', '20220624_202929.txt', '20220624_203021.txt', '20220624_203113.txt', '20220624_203206.txt', '20220624_203258.txt', '20220624_203350.txt', '20220624_203442.txt', '20220624_203535.txt', '20220624_203627.txt', '20220624_203719.txt', '20220624_203812.txt', '20220624_203904.txt', '20220624_203957.txt', '20220624_204049.txt', '20220624_204141.txt', '20220624_204234.txt', '20220624_204326.txt', '20220624_204418.txt', '20220624_204511.txt', '20220624_204603.txt', '20220624_204655.txt', '20220624_204747.txt', '20220624_204839.txt', '20220624_204938.txt', '20220624_205030.txt', '20220624_205123.txt', '20220624_205216.txt', '20220624_205308.txt', '20220624_205400.txt', '20220624_205453.txt', '20220624_205545.txt', '20220624_205637.txt', '20220624_205729.txt', '20220624_205822.txt', '20220624_205914.txt', '20220624_210006.txt', '20220624_210059.txt', '20220624_210152.txt', '20220624_210244.txt', '20220624_210336.txt', '20220624_210428.txt', '20220624_210521.txt', '20220624_210613.txt', '20220624_210706.txt', '20220624_210758.txt', '20220624_210851.txt', '20220624_210943.txt', '20220624_211036.txt', '20220624_211129.txt', '20220624_211221.txt', '20220624_211314.txt', '20220624_211406.txt', '20220624_211458.txt', '20220624_211551.txt', '20220624_211643.txt', '20220624_211736.txt', '20220624_211828.txt', '20220624_211921.txt', '20220624_212013.txt', '20220624_212106.txt', '20220624_212158.txt', '20220624_212250.txt', '20220624_212343.txt', '20220624_212435.txt', '20220624_212527.txt', '20220624_212620.txt', '20220624_212712.txt', '20220624_212804.txt', '20220624_212856.txt', '20220624_212949.txt', '20220624_213041.txt', '20220624_213133.txt', '20220624_213225.txt', '20220624_213318.txt', '20220624_213410.txt', '20220624_213503.txt', '20220624_213555.txt', '20220624_213647.txt', '20220624_213739.txt', '20220624_213831.txt', '20220624_213923.txt', '20220624_214016.txt', '20220624_214108.txt', '20220624_214200.txt', '20220624_214253.txt', '20220624_214345.txt', '20220624_214437.txt', '20220624_214529.txt', '20220624_214622.txt', '20220624_214714.txt', '20220624_214806.txt', '20220624_214900.txt', '20220624_214953.txt', '20220624_215045.txt', '20220624_215137.txt', '20220624_215229.txt', '20220624_215322.txt', '20220624_215414.txt', '20220624_215506.txt', '20220624_215559.txt', '20220624_215651.txt', '20220624_215743.txt', '20220624_215835.txt', '20220624_215927.txt', '20220624_220020.txt', '20220624_220112.txt', '20220624_220204.txt', '20220624_220256.txt', '20220624_220349.txt', '20220624_220441.txt', '20220624_220533.txt', '20220624_220625.txt', '20220624_220717.txt', '20220624_220810.txt', '20220624_220902.txt', '20220624_220954.txt', '20220624_221046.txt', '20220624_221138.txt', '20220624_221231.txt', '20220624_221323.txt', '20220624_221415.txt', '20220624_221508.txt', '20220624_221600.txt', '20220624_221652.txt', '20220624_221744.txt', '20220624_221837.txt', '20220624_221929.txt', '20220624_222021.txt', '20220624_222113.txt', '20220624_222205.txt', '20220624_222257.txt', '20220624_222349.txt', '20220624_222442.txt', '20220624_222534.txt', '20220624_222626.txt', '20220624_222718.txt', '20220624_222810.txt', '20220624_222903.txt', '20220624_222955.txt', '20220624_223047.txt', '20220624_223139.txt', '20220624_223231.txt', '20220624_223323.txt', '20220624_223416.txt', '20220624_223508.txt', '20220624_223600.txt', '20220624_223652.txt', '20220624_223744.txt', '20220624_223836.txt', '20220624_223929.txt', '20220624_224021.txt', '20220624_224113.txt', '20220624_224206.txt', '20220624_224258.txt', '20220624_224350.txt', '20220624_224442.txt', '20220624_224534.txt', '20220624_224626.txt', '20220624_224718.txt', '20220624_224810.txt', '20220624_224903.txt', '20220624_224955.txt', '20220624_225047.txt', '20220624_225139.txt', '20220624_225231.txt', '20220624_225324.txt', '20220624_225416.txt', '20220624_225508.txt', '20220624_225600.txt', '20220624_225652.txt', '20220624_225744.txt', '20220624_225837.txt', '20220624_225929.txt', '20220624_230021.txt', '20220624_230113.txt', '20220624_230205.txt', '20220624_230257.txt', '20220624_230349.txt', '20220624_230441.txt', '20220624_230533.txt', '20220624_230625.txt', '20220624_230717.txt', '20220624_230809.txt', '20220624_230901.txt', '20220624_230953.txt', '20220624_231045.txt', '20220624_231137.txt', '20220624_231230.txt', '20220624_231321.txt', '20220624_231414.txt', '20220624_231506.txt', '20220624_231559.txt', '20220624_231651.txt', '20220624_231743.txt', '20220624_231835.txt', '20220624_231927.txt', '20220624_232019.txt', '20220624_232111.txt', '20220624_232203.txt', '20220624_232255.txt', '20220624_232347.txt', '20220624_232439.txt', '20220624_232531.txt', '20220624_232623.txt', '20220624_232715.txt', '20220624_232807.txt', '20220624_232859.txt', '20220624_232951.txt', '20220624_233043.txt', '20220624_233135.txt', '20220624_233227.txt', '20220624_233319.txt', '20220624_233411.txt', '20220624_233503.txt', '20220624_233555.txt', '20220624_233648.txt', '20220624_233740.txt', '20220624_233832.txt', '20220624_233923.txt', '20220624_234016.txt', '20220624_234107.txt', '20220624_234200.txt', '20220624_234252.txt', '20220624_234344.txt', '20220624_234436.txt', '20220624_234528.txt'] [2044.8983335798464, 2308.289905898358, 2497.725246389616, 2896.377251497851, 2683.056331837286, 3402.2306928448934, 2266.8385580168533, 2035.7968503296484, 2158.35432901997, 2324.486435127233, 2111.4986691672875, 1380.6351612670444, 1564.684937443543, 1832.7862711802939, 1744.7445919258603, 1536.7642560498502, 1713.0318437005599, 1830.609546441018, 2946.2920828351057, 2297.5236404563807, 3946.7801555229967, 3766.8498700943956, 4339.039442688466, 1723.506485376225, 2272.608251175772, 1825.0833577786298, 1725.0155755091046, 1285.239653898589, 3456.3211858028662, 3300.1032823337937, 2482.0714853037866, 2168.0337043427376, 1850.930411078331, 2728.424192382431, 2827.598444959793, 3919.6483029865067, 1447.2699989347507, 2240.1450685616746, 2422.7947707150506, 2225.1573196112026, 3146.799243222592, 5047.678839883629, 2551.887611323079, 1533.4133621893782, 3415.0626390485772, 2997.9798292270084, 1493.781946350054, 1145.890618960557, 1229.788672416108, 1309.9884125068559, 1130.0342500320849, 1390.198569536819, 1301.7616778595143, 1285.9405739246965, 1158.5182497747255, 1296.8162491256053, 1408.9101807357924, 1347.2720660278758, 1427.5812111339183, 1575.3967260985692, 1252.056372296106, 1663.0252968550608, 1114.4872115234527, 1157.0940154088405, 1196.1902500025076, 1671.570020920651, 1723.3570092408336, 1397.205957317014, 2701.2997535392415, 2586.9805055511692, 2240.139968243044, 1861.9046189140836, 2187.4414820929205, 1839.6498814206598, 3028.407289449764, 2741.6667547626603, 5405.260801154543, 3839.29233877463, 3089.1115370105927, 2305.563907753095, 1210.6194367824883, 1209.666826605171, 1379.9673047757274, 2899.0037220915874, 1622.873874011955, 1527.1411902956636, 1484.5564392370468, 1604.915221050807, 1572.835765828408, 1391.7918533136983, 1359.7375358323525, 1571.70280582201, 2131.0587333795875, 2923.94554441551, 3605.3951680748996, 3021.1224237432257, 2192.612736650242, 5364.752407896133, 2324.201988318258, 2586.143007122248, 1725.3626245178177, 1560.5979711329219, 2003.3070745695716, 1975.8265844640555, 1290.987668155567, 1172.0974644186012, 1310.1862591499648, 834.1961390046146, 2404.35177451484, 2541.195414344095, 2295.4400706392166, 2788.8378520041324, 247.78297835345543, 18.54947418917896, 2910.1848619464936, 1685.1903851705836, 1603.3434243182967, 1892.8764050639677, 1232.927607996045, 1784.8776876907318, 1315.845942058998, 1525.7327168692414, 965.1193739155823, 1843.430437893445, 1217.947715705063, 2216.1411269433506, 1276.8475781863774, 1469.303658871859, 1483.0492471776965, 1646.5948781454672, 1845.2921897481287, 2257.3553692496885, 1791.3497237454849, 1432.1194244962687, 1519.2914826079882, 1023.4151821536192, 1156.0764324794382, 1372.2441774048352, 1463.7069327369295, 1496.6565719384662, 1517.1388644370852, 821.6528934521428, 793.1018366965486, 982.4263261319968, 1055.8533760106461, 1046.2622994494195, 940.8818372855073, 1108.2177077180904, 1303.6925278632737, 1503.965020600737, 1186.5143759603238, 1353.5737275226718, 1849.6258526256916, 1988.5805959544537, 2500.533931087053, 1857.9351782905392, 2142.88853808895, 1056.3967753041507, 1285.4391018183258, 657.7125258581547, 940.6428081111718, 1221.1683640223443, 1111.6856450690834, 902.993235904583, 1416.7857876058888, 1139.573374484364, 1321.2682812602063, 1542.8100586959565, 1090.2327210777823, 1019.5811475725852, 945.791494389505, 1005.4163720097091, 984.5798429732313, 502.2612208133196, 1166.6152946585805, 1209.9568131598323, 1438.5740185127868, 921.2276350001246, 869.1198025104475, 862.7463945765069, 252.57342695419885, 997.4461753785646, 1346.1427206686453, 783.4590040487356, 1179.6287128117442, 1125.5190077686361, 27.414111036558335, 929.0825280049185, 972.0210418917778, 955.0679424181552, 2.5905779414763437, 368.7417826048707, 238.61576358877355, 1043.1013769291696, 275.3759538469317, 215.64151128769367, 881.6542552616426, 258.7975975873822, 148.97661817224144, 1953.9635005938387, 1350.3483036295936, 1238.0805158122748, 999.9773880901477, 113.45715560370338, 1457.2983727969456, 81.62609171671635, 66.07143867784478, 981.5670980541333, 18.37761142599929, 101.00255103343412, 72.63409283778158, 68.60534150416842, 142.2003284465865, 993.2194486933763, 170.08625502468502, 71.58322676396936, 50.39953801746721, 275.1337450333893, 835.7363994426527, 144.12972963366386, 186.88172196457566, 356.20354783670064, 3396.651707753072, 1677.6089013906446, 942.3727063908378, 12.789150254154794, 35.837975169825874, 35.837975169825874, 25.744110210445946, 35.89878318812717]\n"
     ]
    }
   ],
   "source": [
    "print(name_list,length_list)"
   ]
  },
  {
   "cell_type": "code",
   "execution_count": 11,
   "id": "80eb7059-55b2-4986-8be9-f16fb27a55a4",
   "metadata": {},
   "outputs": [],
   "source": [
    "from datetime import datetime\n",
    "dates_list = []\n",
    "for name in name_list:\n",
    "        dates_list.append(datetime.strptime(os.path.splitext(name)[0],'%Y%m%d_%H%M%S'))"
   ]
  },
  {
   "cell_type": "code",
   "execution_count": 16,
   "id": "89697995-4f4e-443f-942a-7e5a94866e3f",
   "metadata": {},
   "outputs": [
    {
     "data": {
      "text/plain": [
       "[<matplotlib.lines.Line2D at 0x2532c757d30>]"
      ]
     },
     "execution_count": 16,
     "metadata": {},
     "output_type": "execute_result"
    },
    {
     "data": {
      "image/png": "[encoded data removed]",
      "text/plain": [
       "<Figure size 1440x720 with 1 Axes>"
      ]
     },
     "metadata": {
      "needs_background": "light"
     },
     "output_type": "display_data"
    }
   ],
   "source": [
    "plt.figure(figsize=(20,10))\n",
    "plt.plot(dates_list,length_list,'o')"
   ]
  },
  {
   "cell_type": "code",
   "execution_count": null,
   "id": "5106eb63-e52e-4456-b2d0-4f8c9ac2ac13",
   "metadata": {},
   "outputs": [],
   "source": [
    "for name,length in zip(name_list,length_list):\n",
    "    print(name,': ', length/1e3)\n",
    "    \n",
    "#TODO split matched route into smaller segments"
   ]
  }
 ],
 "metadata": {
  "kernelspec": {
   "display_name": "Python 3 (ipykernel)",
   "language": "python",
   "name": "python3"
  },
  "language_info": {
   "codemirror_mode": {
    "name": "ipython",
    "version": 3
   },
   "file_extension": ".py",
   "mimetype": "text/x-python",
   "name": "python",
   "nbconvert_exporter": "python",
   "pygments_lexer": "ipython3",
   "version": "3.9.7"
  }
 },
 "nbformat": 4,
 "nbformat_minor": 5
}
